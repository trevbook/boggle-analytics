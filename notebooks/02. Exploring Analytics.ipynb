{
 "cells": [
  {
   "cell_type": "markdown",
   "metadata": {},
   "source": [
    "# **Exploring Analytics**\n",
    "In this notebook, I want to explore the types of analytics I could calculate for Boggle performance. "
   ]
  },
  {
   "cell_type": "markdown",
   "metadata": {},
   "source": [
    "# Setup\n",
    "The cells below will set up the rest of the notebook.\n",
    "\n",
    "I'll start by configuring the kernel: "
   ]
  },
  {
   "cell_type": "code",
   "execution_count": 1,
   "metadata": {},
   "outputs": [
    {
     "name": "stdout",
     "output_type": "stream",
     "text": [
      "d:\\data\\programming\\boggle-analytics\n"
     ]
    }
   ],
   "source": [
    "# Change the working directory \n",
    "%cd ..\n",
    "\n",
    "# Enable the autoreload extension, which will automatically load in new code as it's written\n",
    "%load_ext autoreload\n",
    "%autoreload 2"
   ]
  },
  {
   "cell_type": "markdown",
   "metadata": {},
   "source": [
    "Now I'll import some necessary modules:"
   ]
  },
  {
   "cell_type": "code",
   "execution_count": 2,
   "metadata": {},
   "outputs": [],
   "source": [
    "# General import statements\n",
    "import pandas as pd\n",
    "import json"
   ]
  },
  {
   "cell_type": "markdown",
   "metadata": {},
   "source": [
    "# Loading and Transforming Data\n",
    "Before I do any sort of analysis, I want to load in the `.xlsx` that contains my data. Once loaded, I'll add a couple of columns in that will help with the rest of the analysis."
   ]
  },
  {
   "cell_type": "code",
   "execution_count": 7,
   "metadata": {},
   "outputs": [],
   "source": [
    "# Loading in the original data\n",
    "raw_boggle_data_df = pd.read_excel(\"data/boggle-analytics.xlsx\")\n",
    "\n",
    "# Make a copy of the original data, which we'll add new columns to\n",
    "boggle_data_df = raw_boggle_data_df.copy()\n",
    "\n",
    "# Add a \"point_overlap\" column, which indicates how many points Trevor and Sarah have in common\n",
    "boggle_data_df[\"point_overlap\"] = boggle_data_df.apply(\n",
    "    lambda row: row.trevor_points_potential - row.trevor_points_scored, axis=1\n",
    ")\n",
    "\n",
    "# Add a \"sarah_points_potential\" column, which indicates how many points Sarah could have gotten\n",
    "boggle_data_df[\"sarah_points_potential\"] = boggle_data_df.apply(\n",
    "    lambda row: row.sarah_points_scored + row.point_overlap, axis=1\n",
    ")"
   ]
  },
  {
   "cell_type": "markdown",
   "metadata": {},
   "source": [
    "# Calculating Game-Level Statistics\n",
    "Now: the `boggle_data_df` are round-based statistics. "
   ]
  },
  {
   "cell_type": "code",
   "execution_count": 14,
   "metadata": {},
   "outputs": [],
   "source": [
    "# Create a new DataFrame that aggregates game-level information\n",
    "game_level_stats_df = (\n",
    "    boggle_data_df.groupby(\"game_date\")\n",
    "    .agg(\n",
    "        trevor_total_points=(\"trevor_points_scored\", \"sum\"),\n",
    "        trevor_min_scoring_round=(\"trevor_points_scored\", \"min\"),\n",
    "        trevor_max_scoring_round=(\"trevor_points_scored\", \"max\"),\n",
    "        sarah_total_points=(\"sarah_points_scored\", \"sum\"),\n",
    "        sarah_min_scoring_round=(\"sarah_points_scored\", \"min\"),\n",
    "        sarah_max_scoring_round=(\"sarah_points_scored\", \"max\"),\n",
    "    )\n",
    "    .reset_index()\n",
    ")\n",
    "\n",
    "# Add a column indicating the winner of each game\n",
    "game_level_stats_df[\"winner\"] = game_level_stats_df.apply(\n",
    "    lambda row: (\n",
    "        \"Trevor\" if row.trevor_total_points > row.sarah_total_points else \"Sarah\"\n",
    "    ),\n",
    "    axis=1,\n",
    ")"
   ]
  },
  {
   "cell_type": "code",
   "execution_count": 15,
   "metadata": {},
   "outputs": [
    {
     "data": {
      "text/plain": [
       "winner\n",
       "Sarah     12\n",
       "Trevor     7\n",
       "Name: count, dtype: int64"
      ]
     },
     "execution_count": 15,
     "metadata": {},
     "output_type": "execute_result"
    }
   ],
   "source": [
    "game_level_stats_df[\"winner\"].value_counts()"
   ]
  },
  {
   "cell_type": "code",
   "execution_count": 18,
   "metadata": {},
   "outputs": [
    {
     "name": "stdout",
     "output_type": "stream",
     "text": [
      "How many total points did Trevor score?\n",
      "2789\n"
     ]
    }
   ],
   "source": [
    "print(\"How many total points did Trevor score?\")\n",
    "print(game_level_stats_df[\"trevor_total_points\"].sum())"
   ]
  },
  {
   "cell_type": "code",
   "execution_count": 19,
   "metadata": {},
   "outputs": [
    {
     "name": "stdout",
     "output_type": "stream",
     "text": [
      "How many total points did Sarah score?\n",
      "3128\n"
     ]
    }
   ],
   "source": [
    "print(\"How many total points did Sarah score?\")\n",
    "print(game_level_stats_df[\"sarah_total_points\"].sum())"
   ]
  },
  {
   "cell_type": "code",
   "execution_count": 24,
   "metadata": {},
   "outputs": [
    {
     "data": {
      "text/plain": [
       "10"
      ]
     },
     "execution_count": 24,
     "metadata": {},
     "output_type": "execute_result"
    }
   ],
   "source": [
    "boggle_data_df[\"sarah_points_scored\"].min()"
   ]
  },
  {
   "cell_type": "code",
   "execution_count": 25,
   "metadata": {},
   "outputs": [
    {
     "data": {
      "text/plain": [
       "3"
      ]
     },
     "execution_count": 25,
     "metadata": {},
     "output_type": "execute_result"
    }
   ],
   "source": [
    "boggle_data_df[\"trevor_points_scored\"].min()"
   ]
  },
  {
   "cell_type": "code",
   "execution_count": null,
   "metadata": {},
   "outputs": [],
   "source": []
  }
 ],
 "metadata": {
  "kernelspec": {
   "display_name": ".venv",
   "language": "python",
   "name": "python3"
  },
  "language_info": {
   "codemirror_mode": {
    "name": "ipython",
    "version": 3
   },
   "file_extension": ".py",
   "mimetype": "text/x-python",
   "name": "python",
   "nbconvert_exporter": "python",
   "pygments_lexer": "ipython3",
   "version": "3.11.0"
  }
 },
 "nbformat": 4,
 "nbformat_minor": 2
}

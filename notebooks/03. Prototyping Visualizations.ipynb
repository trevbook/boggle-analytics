{
 "cells": [
  {
   "cell_type": "markdown",
   "metadata": {},
   "source": [
    "# **Prototyping Visualizations**\n",
    "In this notebook, I'll prototype some visualizations that can show off some Boggle analytics. "
   ]
  },
  {
   "cell_type": "markdown",
   "metadata": {},
   "source": [
    "# Setup\n",
    "The cells below will help to set up the rest of the notebook. \n",
    "\n",
    "I'll start by configuring the kernel that's running this notebook:"
   ]
  },
  {
   "cell_type": "code",
   "execution_count": 1,
   "metadata": {},
   "outputs": [
    {
     "name": "stdout",
     "output_type": "stream",
     "text": [
      "d:\\data\\programming\\boggle-analytics\n"
     ]
    }
   ],
   "source": [
    "# Change the cwd\n",
    "%cd ..\n",
    "\n",
    "# Enable the autoreload module\n",
    "%load_ext autoreload\n",
    "%autoreload 2"
   ]
  },
  {
   "cell_type": "markdown",
   "metadata": {},
   "source": [
    "Next, I'm going to import the necessary modules:"
   ]
  },
  {
   "cell_type": "code",
   "execution_count": 40,
   "metadata": {},
   "outputs": [],
   "source": [
    "# General import statements\n",
    "import pandas as pd\n",
    "import plotly.express as px\n",
    "import plotly.graph_objects as go\n",
    "\n",
    "# Importing specific settings\n",
    "from pipeline import run_pipeline\n",
    "from utils.settings import TREVOR_COLOR, SARAH_COLOR\n",
    "from utils.visualizations import (\n",
    "    percentage_of_total_points_scored_line_graph,\n",
    "    win_loss_heatmap,\n",
    "    round_score_distribution_boxplot,\n",
    "    total_wins_bar_chart\n",
    ")"
   ]
  },
  {
   "cell_type": "markdown",
   "metadata": {},
   "source": [
    "Finally, I'm going to load in the data that powers these visualizations. I'll run the pipeline before I actually load the data, in case there's been any new stuff."
   ]
  },
  {
   "cell_type": "code",
   "execution_count": 41,
   "metadata": {},
   "outputs": [
    {
     "name": "stdout",
     "output_type": "stream",
     "text": [
      "Download 100%.\n"
     ]
    }
   ],
   "source": [
    "# Run the data pipeline\n",
    "run_pipeline()\n",
    "\n",
    "# Load in the game and round level stats\n",
    "round_level_stats_df = pd.read_excel(\"data/round-level-stats.xlsx\")\n",
    "game_level_stats_df = pd.read_excel(\"data/game-level-stats.xlsx\")"
   ]
  },
  {
   "cell_type": "markdown",
   "metadata": {},
   "source": [
    "# Generating Visualizations\n",
    "Below, I'm going to try and create a number of different visualizations! "
   ]
  },
  {
   "cell_type": "markdown",
   "metadata": {},
   "source": [
    "### **Total Wins**\n",
    "This one is easy: a horizontal bar chart showing who's won more games! Very to the point. "
   ]
  },
  {
   "cell_type": "code",
   "execution_count": 42,
   "metadata": {},
   "outputs": [
    {
     "data": {
      "application/vnd.plotly.v1+json": {
       "config": {
        "plotlyServerURL": "https://plot.ly"
       },
       "data": [
        {
         "alignmentgroup": "True",
         "hovertemplate": "=%{y}<br>Total Wins=%{x}<extra></extra>",
         "legendgroup": "<b>Sarah</b>",
         "marker": {
          "color": "#D02F37",
          "line": {
           "color": "black",
           "width": 1
          },
          "pattern": {
           "shape": ""
          }
         },
         "name": "<b>Sarah</b>",
         "offsetgroup": "<b>Sarah</b>",
         "orientation": "h",
         "showlegend": true,
         "textposition": "auto",
         "type": "bar",
         "x": [
          14
         ],
         "xaxis": "x",
         "y": [
          "<b>Sarah</b>"
         ],
         "yaxis": "y"
        },
        {
         "alignmentgroup": "True",
         "hovertemplate": "=%{y}<br>Total Wins=%{x}<extra></extra>",
         "legendgroup": "<b>Trevor</b>",
         "marker": {
          "color": "#117E9B",
          "line": {
           "color": "black",
           "width": 1
          },
          "pattern": {
           "shape": ""
          }
         },
         "name": "<b>Trevor</b>",
         "offsetgroup": "<b>Trevor</b>",
         "orientation": "h",
         "showlegend": true,
         "textposition": "auto",
         "type": "bar",
         "x": [
          10
         ],
         "xaxis": "x",
         "y": [
          "<b>Trevor</b>"
         ],
         "yaxis": "y"
        }
       ],
       "layout": {
        "annotations": [
         {
          "font": {
           "color": "white",
           "size": 24
          },
          "showarrow": false,
          "text": "<b>14 wins</b><br><sub>58% of total games</sub>",
          "x": 7,
          "xanchor": "center",
          "y": "<b>Sarah</b>"
         },
         {
          "font": {
           "color": "white",
           "size": 24
          },
          "showarrow": false,
          "text": "<b>10 wins</b><br><sub>42% of total games</sub>",
          "x": 5,
          "xanchor": "center",
          "y": "<b>Trevor</b>"
         }
        ],
        "barmode": "relative",
        "height": 300,
        "legend": {
         "title": {
          "text": ""
         },
         "tracegroupgap": 0
        },
        "margin": {
         "b": 20,
         "l": 20,
         "pad": 20,
         "r": 20,
         "t": 20
        },
        "plot_bgcolor": "white",
        "showlegend": false,
        "template": {
         "data": {
          "bar": [
           {
            "error_x": {
             "color": "#2a3f5f"
            },
            "error_y": {
             "color": "#2a3f5f"
            },
            "marker": {
             "line": {
              "color": "#E5ECF6",
              "width": 0.5
             },
             "pattern": {
              "fillmode": "overlay",
              "size": 10,
              "solidity": 0.2
             }
            },
            "type": "bar"
           }
          ],
          "barpolar": [
           {
            "marker": {
             "line": {
              "color": "#E5ECF6",
              "width": 0.5
             },
             "pattern": {
              "fillmode": "overlay",
              "size": 10,
              "solidity": 0.2
             }
            },
            "type": "barpolar"
           }
          ],
          "carpet": [
           {
            "aaxis": {
             "endlinecolor": "#2a3f5f",
             "gridcolor": "white",
             "linecolor": "white",
             "minorgridcolor": "white",
             "startlinecolor": "#2a3f5f"
            },
            "baxis": {
             "endlinecolor": "#2a3f5f",
             "gridcolor": "white",
             "linecolor": "white",
             "minorgridcolor": "white",
             "startlinecolor": "#2a3f5f"
            },
            "type": "carpet"
           }
          ],
          "choropleth": [
           {
            "colorbar": {
             "outlinewidth": 0,
             "ticks": ""
            },
            "type": "choropleth"
           }
          ],
          "contour": [
           {
            "colorbar": {
             "outlinewidth": 0,
             "ticks": ""
            },
            "colorscale": [
             [
              0,
              "#0d0887"
             ],
             [
              0.1111111111111111,
              "#46039f"
             ],
             [
              0.2222222222222222,
              "#7201a8"
             ],
             [
              0.3333333333333333,
              "#9c179e"
             ],
             [
              0.4444444444444444,
              "#bd3786"
             ],
             [
              0.5555555555555556,
              "#d8576b"
             ],
             [
              0.6666666666666666,
              "#ed7953"
             ],
             [
              0.7777777777777778,
              "#fb9f3a"
             ],
             [
              0.8888888888888888,
              "#fdca26"
             ],
             [
              1,
              "#f0f921"
             ]
            ],
            "type": "contour"
           }
          ],
          "contourcarpet": [
           {
            "colorbar": {
             "outlinewidth": 0,
             "ticks": ""
            },
            "type": "contourcarpet"
           }
          ],
          "heatmap": [
           {
            "colorbar": {
             "outlinewidth": 0,
             "ticks": ""
            },
            "colorscale": [
             [
              0,
              "#0d0887"
             ],
             [
              0.1111111111111111,
              "#46039f"
             ],
             [
              0.2222222222222222,
              "#7201a8"
             ],
             [
              0.3333333333333333,
              "#9c179e"
             ],
             [
              0.4444444444444444,
              "#bd3786"
             ],
             [
              0.5555555555555556,
              "#d8576b"
             ],
             [
              0.6666666666666666,
              "#ed7953"
             ],
             [
              0.7777777777777778,
              "#fb9f3a"
             ],
             [
              0.8888888888888888,
              "#fdca26"
             ],
             [
              1,
              "#f0f921"
             ]
            ],
            "type": "heatmap"
           }
          ],
          "heatmapgl": [
           {
            "colorbar": {
             "outlinewidth": 0,
             "ticks": ""
            },
            "colorscale": [
             [
              0,
              "#0d0887"
             ],
             [
              0.1111111111111111,
              "#46039f"
             ],
             [
              0.2222222222222222,
              "#7201a8"
             ],
             [
              0.3333333333333333,
              "#9c179e"
             ],
             [
              0.4444444444444444,
              "#bd3786"
             ],
             [
              0.5555555555555556,
              "#d8576b"
             ],
             [
              0.6666666666666666,
              "#ed7953"
             ],
             [
              0.7777777777777778,
              "#fb9f3a"
             ],
             [
              0.8888888888888888,
              "#fdca26"
             ],
             [
              1,
              "#f0f921"
             ]
            ],
            "type": "heatmapgl"
           }
          ],
          "histogram": [
           {
            "marker": {
             "pattern": {
              "fillmode": "overlay",
              "size": 10,
              "solidity": 0.2
             }
            },
            "type": "histogram"
           }
          ],
          "histogram2d": [
           {
            "colorbar": {
             "outlinewidth": 0,
             "ticks": ""
            },
            "colorscale": [
             [
              0,
              "#0d0887"
             ],
             [
              0.1111111111111111,
              "#46039f"
             ],
             [
              0.2222222222222222,
              "#7201a8"
             ],
             [
              0.3333333333333333,
              "#9c179e"
             ],
             [
              0.4444444444444444,
              "#bd3786"
             ],
             [
              0.5555555555555556,
              "#d8576b"
             ],
             [
              0.6666666666666666,
              "#ed7953"
             ],
             [
              0.7777777777777778,
              "#fb9f3a"
             ],
             [
              0.8888888888888888,
              "#fdca26"
             ],
             [
              1,
              "#f0f921"
             ]
            ],
            "type": "histogram2d"
           }
          ],
          "histogram2dcontour": [
           {
            "colorbar": {
             "outlinewidth": 0,
             "ticks": ""
            },
            "colorscale": [
             [
              0,
              "#0d0887"
             ],
             [
              0.1111111111111111,
              "#46039f"
             ],
             [
              0.2222222222222222,
              "#7201a8"
             ],
             [
              0.3333333333333333,
              "#9c179e"
             ],
             [
              0.4444444444444444,
              "#bd3786"
             ],
             [
              0.5555555555555556,
              "#d8576b"
             ],
             [
              0.6666666666666666,
              "#ed7953"
             ],
             [
              0.7777777777777778,
              "#fb9f3a"
             ],
             [
              0.8888888888888888,
              "#fdca26"
             ],
             [
              1,
              "#f0f921"
             ]
            ],
            "type": "histogram2dcontour"
           }
          ],
          "mesh3d": [
           {
            "colorbar": {
             "outlinewidth": 0,
             "ticks": ""
            },
            "type": "mesh3d"
           }
          ],
          "parcoords": [
           {
            "line": {
             "colorbar": {
              "outlinewidth": 0,
              "ticks": ""
             }
            },
            "type": "parcoords"
           }
          ],
          "pie": [
           {
            "automargin": true,
            "type": "pie"
           }
          ],
          "scatter": [
           {
            "fillpattern": {
             "fillmode": "overlay",
             "size": 10,
             "solidity": 0.2
            },
            "type": "scatter"
           }
          ],
          "scatter3d": [
           {
            "line": {
             "colorbar": {
              "outlinewidth": 0,
              "ticks": ""
             }
            },
            "marker": {
             "colorbar": {
              "outlinewidth": 0,
              "ticks": ""
             }
            },
            "type": "scatter3d"
           }
          ],
          "scattercarpet": [
           {
            "marker": {
             "colorbar": {
              "outlinewidth": 0,
              "ticks": ""
             }
            },
            "type": "scattercarpet"
           }
          ],
          "scattergeo": [
           {
            "marker": {
             "colorbar": {
              "outlinewidth": 0,
              "ticks": ""
             }
            },
            "type": "scattergeo"
           }
          ],
          "scattergl": [
           {
            "marker": {
             "colorbar": {
              "outlinewidth": 0,
              "ticks": ""
             }
            },
            "type": "scattergl"
           }
          ],
          "scattermapbox": [
           {
            "marker": {
             "colorbar": {
              "outlinewidth": 0,
              "ticks": ""
             }
            },
            "type": "scattermapbox"
           }
          ],
          "scatterpolar": [
           {
            "marker": {
             "colorbar": {
              "outlinewidth": 0,
              "ticks": ""
             }
            },
            "type": "scatterpolar"
           }
          ],
          "scatterpolargl": [
           {
            "marker": {
             "colorbar": {
              "outlinewidth": 0,
              "ticks": ""
             }
            },
            "type": "scatterpolargl"
           }
          ],
          "scatterternary": [
           {
            "marker": {
             "colorbar": {
              "outlinewidth": 0,
              "ticks": ""
             }
            },
            "type": "scatterternary"
           }
          ],
          "surface": [
           {
            "colorbar": {
             "outlinewidth": 0,
             "ticks": ""
            },
            "colorscale": [
             [
              0,
              "#0d0887"
             ],
             [
              0.1111111111111111,
              "#46039f"
             ],
             [
              0.2222222222222222,
              "#7201a8"
             ],
             [
              0.3333333333333333,
              "#9c179e"
             ],
             [
              0.4444444444444444,
              "#bd3786"
             ],
             [
              0.5555555555555556,
              "#d8576b"
             ],
             [
              0.6666666666666666,
              "#ed7953"
             ],
             [
              0.7777777777777778,
              "#fb9f3a"
             ],
             [
              0.8888888888888888,
              "#fdca26"
             ],
             [
              1,
              "#f0f921"
             ]
            ],
            "type": "surface"
           }
          ],
          "table": [
           {
            "cells": {
             "fill": {
              "color": "#EBF0F8"
             },
             "line": {
              "color": "white"
             }
            },
            "header": {
             "fill": {
              "color": "#C8D4E3"
             },
             "line": {
              "color": "white"
             }
            },
            "type": "table"
           }
          ]
         },
         "layout": {
          "annotationdefaults": {
           "arrowcolor": "#2a3f5f",
           "arrowhead": 0,
           "arrowwidth": 1
          },
          "autotypenumbers": "strict",
          "coloraxis": {
           "colorbar": {
            "outlinewidth": 0,
            "ticks": ""
           }
          },
          "colorscale": {
           "diverging": [
            [
             0,
             "#8e0152"
            ],
            [
             0.1,
             "#c51b7d"
            ],
            [
             0.2,
             "#de77ae"
            ],
            [
             0.3,
             "#f1b6da"
            ],
            [
             0.4,
             "#fde0ef"
            ],
            [
             0.5,
             "#f7f7f7"
            ],
            [
             0.6,
             "#e6f5d0"
            ],
            [
             0.7,
             "#b8e186"
            ],
            [
             0.8,
             "#7fbc41"
            ],
            [
             0.9,
             "#4d9221"
            ],
            [
             1,
             "#276419"
            ]
           ],
           "sequential": [
            [
             0,
             "#0d0887"
            ],
            [
             0.1111111111111111,
             "#46039f"
            ],
            [
             0.2222222222222222,
             "#7201a8"
            ],
            [
             0.3333333333333333,
             "#9c179e"
            ],
            [
             0.4444444444444444,
             "#bd3786"
            ],
            [
             0.5555555555555556,
             "#d8576b"
            ],
            [
             0.6666666666666666,
             "#ed7953"
            ],
            [
             0.7777777777777778,
             "#fb9f3a"
            ],
            [
             0.8888888888888888,
             "#fdca26"
            ],
            [
             1,
             "#f0f921"
            ]
           ],
           "sequentialminus": [
            [
             0,
             "#0d0887"
            ],
            [
             0.1111111111111111,
             "#46039f"
            ],
            [
             0.2222222222222222,
             "#7201a8"
            ],
            [
             0.3333333333333333,
             "#9c179e"
            ],
            [
             0.4444444444444444,
             "#bd3786"
            ],
            [
             0.5555555555555556,
             "#d8576b"
            ],
            [
             0.6666666666666666,
             "#ed7953"
            ],
            [
             0.7777777777777778,
             "#fb9f3a"
            ],
            [
             0.8888888888888888,
             "#fdca26"
            ],
            [
             1,
             "#f0f921"
            ]
           ]
          },
          "colorway": [
           "#636efa",
           "#EF553B",
           "#00cc96",
           "#ab63fa",
           "#FFA15A",
           "#19d3f3",
           "#FF6692",
           "#B6E880",
           "#FF97FF",
           "#FECB52"
          ],
          "font": {
           "color": "#2a3f5f"
          },
          "geo": {
           "bgcolor": "white",
           "lakecolor": "white",
           "landcolor": "#E5ECF6",
           "showlakes": true,
           "showland": true,
           "subunitcolor": "white"
          },
          "hoverlabel": {
           "align": "left"
          },
          "hovermode": "closest",
          "mapbox": {
           "style": "light"
          },
          "paper_bgcolor": "white",
          "plot_bgcolor": "#E5ECF6",
          "polar": {
           "angularaxis": {
            "gridcolor": "white",
            "linecolor": "white",
            "ticks": ""
           },
           "bgcolor": "#E5ECF6",
           "radialaxis": {
            "gridcolor": "white",
            "linecolor": "white",
            "ticks": ""
           }
          },
          "scene": {
           "xaxis": {
            "backgroundcolor": "#E5ECF6",
            "gridcolor": "white",
            "gridwidth": 2,
            "linecolor": "white",
            "showbackground": true,
            "ticks": "",
            "zerolinecolor": "white"
           },
           "yaxis": {
            "backgroundcolor": "#E5ECF6",
            "gridcolor": "white",
            "gridwidth": 2,
            "linecolor": "white",
            "showbackground": true,
            "ticks": "",
            "zerolinecolor": "white"
           },
           "zaxis": {
            "backgroundcolor": "#E5ECF6",
            "gridcolor": "white",
            "gridwidth": 2,
            "linecolor": "white",
            "showbackground": true,
            "ticks": "",
            "zerolinecolor": "white"
           }
          },
          "shapedefaults": {
           "line": {
            "color": "#2a3f5f"
           }
          },
          "ternary": {
           "aaxis": {
            "gridcolor": "white",
            "linecolor": "white",
            "ticks": ""
           },
           "baxis": {
            "gridcolor": "white",
            "linecolor": "white",
            "ticks": ""
           },
           "bgcolor": "#E5ECF6",
           "caxis": {
            "gridcolor": "white",
            "linecolor": "white",
            "ticks": ""
           }
          },
          "title": {
           "x": 0.05
          },
          "xaxis": {
           "automargin": true,
           "gridcolor": "white",
           "linecolor": "white",
           "ticks": "",
           "title": {
            "standoff": 15
           },
           "zerolinecolor": "white",
           "zerolinewidth": 2
          },
          "yaxis": {
           "automargin": true,
           "gridcolor": "white",
           "linecolor": "white",
           "ticks": "",
           "title": {
            "standoff": 15
           },
           "zerolinecolor": "white",
           "zerolinewidth": 2
          }
         }
        },
        "xaxis": {
         "anchor": "y",
         "domain": [
          0,
          1
         ],
         "showticklabels": false,
         "title": {}
        },
        "yaxis": {
         "anchor": "x",
         "categoryarray": [
          "<b>Trevor</b>",
          "<b>Sarah</b>"
         ],
         "categoryorder": "array",
         "domain": [
          0,
          1
         ],
         "tickfont": {
          "size": 16
         },
         "title": {
          "text": ""
         }
        }
       }
      }
     },
     "metadata": {},
     "output_type": "display_data"
    }
   ],
   "source": [
    "# Use the method we've created\n",
    "total_wins_bar_chart(game_level_stats_df=game_level_stats_df, height=300)"
   ]
  },
  {
   "cell_type": "markdown",
   "metadata": {},
   "source": [
    "### **Percentage of Total Points Scorable**\n",
    "This will be a dual line plot, tracking each of our \"percentage of total points\" scored. "
   ]
  },
  {
   "cell_type": "code",
   "execution_count": 4,
   "metadata": {},
   "outputs": [
    {
     "data": {
      "application/vnd.plotly.v1+json": {
       "config": {
        "plotlyServerURL": "https://plot.ly"
       },
       "data": [
        {
         "line": {
          "color": "#117E9B",
          "width": 4
         },
         "mode": "lines",
         "name": "Trevor",
         "type": "scatter",
         "x": [
          "2023-10-29 00:00:00-round-1",
          "2023-10-29 00:00:00-round-2",
          "2023-10-29 00:00:00-round-3",
          "2023-10-29 00:00:00-round-4",
          "2023-10-29 00:00:00-round-5",
          "2023-10-30 00:00:00-round-1",
          "2023-10-30 00:00:00-round-2",
          "2023-10-30 00:00:00-round-3",
          "2023-10-30 00:00:00-round-4",
          "2023-10-30 00:00:00-round-5",
          "2023-10-31 00:00:00-round-1",
          "2023-10-31 00:00:00-round-2",
          "2023-10-31 00:00:00-round-3",
          "2023-10-31 00:00:00-round-4",
          "2023-11-08 00:00:00-round-1",
          "2023-11-08 00:00:00-round-2",
          "2023-11-08 00:00:00-round-3",
          "2023-11-10 00:00:00-round-1",
          "2023-11-10 00:00:00-round-2",
          "2023-11-10 00:00:00-round-3",
          "2023-11-10 00:00:00-round-4",
          "2023-11-10 00:00:00-round-5",
          "2023-11-10 00:00:00-round-6",
          "2023-11-19 00:00:00-round-1",
          "2023-11-19 00:00:00-round-2",
          "2023-11-19 00:00:00-round-3",
          "2023-11-19 00:00:00-round-4",
          "2023-11-19 00:00:00-round-5",
          "2023-11-19 00:00:00-round-6",
          "2023-11-29 00:00:00-round-1",
          "2023-11-29 00:00:00-round-2",
          "2023-11-29 00:00:00-round-3",
          "2023-12-01 00:00:00-round-1",
          "2023-12-01 00:00:00-round-2",
          "2023-12-01 00:00:00-round-3",
          "2023-12-01 00:00:00-round-4",
          "2023-12-01 00:00:00-round-5",
          "2023-12-01 00:00:00-round-6",
          "2023-12-01 00:00:00-round-7",
          "2023-12-03 00:00:00-round-1",
          "2023-12-03 00:00:00-round-2",
          "2023-12-03 00:00:00-round-3",
          "2023-12-04 00:00:00-round-1",
          "2023-12-04 00:00:00-round-2",
          "2023-12-04 00:00:00-round-3",
          "2023-12-04 00:00:00-round-4",
          "2023-12-09 00:00:00-round-1",
          "2023-12-09 00:00:00-round-2",
          "2023-12-09 00:00:00-round-3",
          "2023-12-09 00:00:00-round-4",
          "2023-12-13 00:00:00-round-1",
          "2023-12-13 00:00:00-round-2",
          "2023-12-13 00:00:00-round-3",
          "2023-12-13 00:00:00-round-4",
          "2023-12-28 00:00:00-round-1",
          "2023-12-28 00:00:00-round-2",
          "2023-12-28 00:00:00-round-3",
          "2023-12-28 00:00:00-round-4",
          "2023-12-28 00:00:00-round-5",
          "2024-01-04 00:00:00-round-1",
          "2024-01-04 00:00:00-round-2",
          "2024-01-04 00:00:00-round-3",
          "2024-01-04 00:00:00-round-4",
          "2024-01-04 00:00:00-round-5",
          "2024-02-08 00:00:00-round-1",
          "2024-02-08 00:00:00-round-2",
          "2024-02-08 00:00:00-round-3",
          "2024-02-14 00:00:00-round-1",
          "2024-02-14 00:00:00-round-2",
          "2024-02-14 00:00:00-round-3",
          "2024-02-14 00:00:00-round-4",
          "2024-02-14 00:00:00-round-5",
          "2024-02-15 00:00:00-round-1",
          "2024-02-15 00:00:00-round-2",
          "2024-02-15 00:00:00-round-3",
          "2024-02-16 00:00:00-round-1",
          "2024-02-16 00:00:00-round-2",
          "2024-02-16 00:00:00-round-3",
          "2024-02-16 00:00:00-round-4",
          "2024-02-17 00:00:00-round-1",
          "2024-02-17 00:00:00-round-2",
          "2024-02-17 00:00:00-round-3",
          "2024-02-17 00:00:00-round-4",
          "2024-02-17 00:00:00-round-5",
          "2024-02-20 00:00:00-round-1",
          "2024-02-20 00:00:00-round-2",
          "2024-02-20 00:00:00-round-3",
          "2024-02-20 00:00:00-round-4",
          "2024-03-01 00:00:00-round-1",
          "2024-03-01 00:00:00-round-2",
          "2024-03-01 00:00:00-round-3",
          "2024-03-01 00:00:00-round-4",
          "2024-03-01 00:00:00-round-5",
          "2024-03-03 00:00:00-round-1",
          "2024-03-03 00:00:00-round-2",
          "2024-03-03 00:00:00-round-3",
          "2024-03-03 00:00:00-round-4",
          "2024-03-03 00:00:00-round-5",
          "2024-03-03 00:00:00-round-6",
          "2024-03-04 00:00:00-round-1",
          "2024-03-04 00:00:00-round-2",
          "2024-03-04 00:00:00-round-3",
          "2024-03-04 00:00:00-round-4",
          "2024-03-04 00:00:00-round-5",
          "2024-03-05 00:00:00-round-1",
          "2024-03-05 00:00:00-round-2",
          "2024-03-05 00:00:00-round-3",
          "2024-03-05 00:00:00-round-4"
         ],
         "y": [
          0.08459214501510574,
          0.09537826428837479,
          0.10181728969284724,
          0.09099711361109884,
          0.08686613195351786,
          0.0930329548756657,
          0.08722322773126556,
          0.08701239269409532,
          0.08327592410643447,
          0.0820359605617704,
          0.07785188054091946,
          0.07507277531259676,
          0.07544514697404679,
          0.07395940852898411,
          0.07302514823286474,
          0.07043245497298359,
          0.06868446423209339,
          0.07274267641167526,
          0.07262056371691696,
          0.07318176456992591,
          0.07204525523293662,
          0.07270403733773322,
          0.07108053387784544,
          0.07144195335072662,
          0.07286173186409639,
          0.07154797613342223,
          0.07076744294552322,
          0.0694017236867864,
          0.06941085788171401,
          0.06876835964790944,
          0.0666026676941413,
          0.06581242092563368,
          0.06412381101383709,
          0.06560488235379557,
          0.06458801262558564,
          0.06707614084086067,
          0.06965501048779314,
          0.06813540825819099,
          0.07089661237489532,
          0.07122769705880434,
          0.0708704341374992,
          0.07287813327874883,
          0.0685533797552922,
          0.07071639802555635,
          0.0693526645457163,
          0.07134402576995423,
          0.06951514036964025,
          0.06900074270620377,
          0.0669004769132548,
          0.0639563535991893,
          0.06331499495783065,
          0.06338636776925032,
          0.06194905031080257,
          0.06141663451942264,
          0.06206184382728699,
          0.061316648622036875,
          0.06220250252505654,
          0.06205695212679856,
          0.06002424838807666,
          0.06057540454898892,
          0.057841477816606986,
          0.05557111105256934,
          0.054956669005713596,
          0.050910146472931794,
          0.04969362754470061,
          0.05074153512426368,
          0.04901721737700138,
          0.048821004920727,
          0.04522909786030868,
          0.045082838121868994,
          0.04323652121672856,
          0.04312853183263411,
          0.044073337211173236,
          0.0442091595066257,
          0.0450186833161495,
          0.04671206310709027,
          0.044912171246464315,
          0.044385255978797306,
          0.044257215005685906,
          0.04271864727726567,
          0.042262153244129304,
          0.04122857802104678,
          0.04088941907861888,
          0.04097235112784307,
          0.04125673483159689,
          0.04270840056797736,
          0.04174655353642093,
          0.042021100890181386,
          0.04286608150198663,
          0.04378577837712896,
          0.04457518954197583,
          0.04399094448275002,
          0.044712630526406894,
          0.04474593770506468,
          0.04773130486765921,
          0.04645281864799653,
          0.04592815497086649,
          0.04574567745920517,
          0.04889652723841073,
          0.049610812952696454,
          0.048922195066517585,
          0.050960321755958785,
          0.05077332626247094,
          0.05199527332948843,
          0.05283126290913253,
          0.05317289533198322,
          0.05452775427772023,
          0.057514905750493596
         ]
        },
        {
         "line": {
          "color": "#D02F37",
          "width": 4
         },
         "mode": "lines",
         "name": "Sarah",
         "type": "scatter",
         "x": [
          "2023-10-29 00:00:00-round-1",
          "2023-10-29 00:00:00-round-2",
          "2023-10-29 00:00:00-round-3",
          "2023-10-29 00:00:00-round-4",
          "2023-10-29 00:00:00-round-5",
          "2023-10-30 00:00:00-round-1",
          "2023-10-30 00:00:00-round-2",
          "2023-10-30 00:00:00-round-3",
          "2023-10-30 00:00:00-round-4",
          "2023-10-30 00:00:00-round-5",
          "2023-10-31 00:00:00-round-1",
          "2023-10-31 00:00:00-round-2",
          "2023-10-31 00:00:00-round-3",
          "2023-10-31 00:00:00-round-4",
          "2023-11-08 00:00:00-round-1",
          "2023-11-08 00:00:00-round-2",
          "2023-11-08 00:00:00-round-3",
          "2023-11-10 00:00:00-round-1",
          "2023-11-10 00:00:00-round-2",
          "2023-11-10 00:00:00-round-3",
          "2023-11-10 00:00:00-round-4",
          "2023-11-10 00:00:00-round-5",
          "2023-11-10 00:00:00-round-6",
          "2023-11-19 00:00:00-round-1",
          "2023-11-19 00:00:00-round-2",
          "2023-11-19 00:00:00-round-3",
          "2023-11-19 00:00:00-round-4",
          "2023-11-19 00:00:00-round-5",
          "2023-11-19 00:00:00-round-6",
          "2023-11-29 00:00:00-round-1",
          "2023-11-29 00:00:00-round-2",
          "2023-11-29 00:00:00-round-3",
          "2023-12-01 00:00:00-round-1",
          "2023-12-01 00:00:00-round-2",
          "2023-12-01 00:00:00-round-3",
          "2023-12-01 00:00:00-round-4",
          "2023-12-01 00:00:00-round-5",
          "2023-12-01 00:00:00-round-6",
          "2023-12-01 00:00:00-round-7",
          "2023-12-03 00:00:00-round-1",
          "2023-12-03 00:00:00-round-2",
          "2023-12-03 00:00:00-round-3",
          "2023-12-04 00:00:00-round-1",
          "2023-12-04 00:00:00-round-2",
          "2023-12-04 00:00:00-round-3",
          "2023-12-04 00:00:00-round-4",
          "2023-12-09 00:00:00-round-1",
          "2023-12-09 00:00:00-round-2",
          "2023-12-09 00:00:00-round-3",
          "2023-12-09 00:00:00-round-4",
          "2023-12-13 00:00:00-round-1",
          "2023-12-13 00:00:00-round-2",
          "2023-12-13 00:00:00-round-3",
          "2023-12-13 00:00:00-round-4",
          "2023-12-28 00:00:00-round-1",
          "2023-12-28 00:00:00-round-2",
          "2023-12-28 00:00:00-round-3",
          "2023-12-28 00:00:00-round-4",
          "2023-12-28 00:00:00-round-5",
          "2024-01-04 00:00:00-round-1",
          "2024-01-04 00:00:00-round-2",
          "2024-01-04 00:00:00-round-3",
          "2024-01-04 00:00:00-round-4",
          "2024-01-04 00:00:00-round-5",
          "2024-02-08 00:00:00-round-1",
          "2024-02-08 00:00:00-round-2",
          "2024-02-08 00:00:00-round-3",
          "2024-02-14 00:00:00-round-1",
          "2024-02-14 00:00:00-round-2",
          "2024-02-14 00:00:00-round-3",
          "2024-02-14 00:00:00-round-4",
          "2024-02-14 00:00:00-round-5",
          "2024-02-15 00:00:00-round-1",
          "2024-02-15 00:00:00-round-2",
          "2024-02-15 00:00:00-round-3",
          "2024-02-16 00:00:00-round-1",
          "2024-02-16 00:00:00-round-2",
          "2024-02-16 00:00:00-round-3",
          "2024-02-16 00:00:00-round-4",
          "2024-02-17 00:00:00-round-1",
          "2024-02-17 00:00:00-round-2",
          "2024-02-17 00:00:00-round-3",
          "2024-02-17 00:00:00-round-4",
          "2024-02-17 00:00:00-round-5",
          "2024-02-20 00:00:00-round-1",
          "2024-02-20 00:00:00-round-2",
          "2024-02-20 00:00:00-round-3",
          "2024-02-20 00:00:00-round-4",
          "2024-03-01 00:00:00-round-1",
          "2024-03-01 00:00:00-round-2",
          "2024-03-01 00:00:00-round-3",
          "2024-03-01 00:00:00-round-4",
          "2024-03-01 00:00:00-round-5",
          "2024-03-03 00:00:00-round-1",
          "2024-03-03 00:00:00-round-2",
          "2024-03-03 00:00:00-round-3",
          "2024-03-03 00:00:00-round-4",
          "2024-03-03 00:00:00-round-5",
          "2024-03-03 00:00:00-round-6",
          "2024-03-04 00:00:00-round-1",
          "2024-03-04 00:00:00-round-2",
          "2024-03-04 00:00:00-round-3",
          "2024-03-04 00:00:00-round-4",
          "2024-03-04 00:00:00-round-5",
          "2024-03-05 00:00:00-round-1",
          "2024-03-05 00:00:00-round-2",
          "2024-03-05 00:00:00-round-3",
          "2024-03-05 00:00:00-round-4"
         ],
         "y": [
          0.045317220543806644,
          0.061186007532177296,
          0.053335474555501715,
          0.0513837197377645,
          0.0593579263605538,
          0.0580248580698472,
          0.06035335324905822,
          0.05883562266213278,
          0.06310227151579477,
          0.06194668353947301,
          0.05883342421996918,
          0.05894809087528588,
          0.05690573067005954,
          0.056744236246710246,
          0.05695765410274246,
          0.05533267221664816,
          0.05619737227978075,
          0.05919953051270632,
          0.06164343958134816,
          0.06306024510739323,
          0.06397127061760868,
          0.06324880027485025,
          0.06220723203876083,
          0.06089338264655275,
          0.06019175138693342,
          0.060784656970775564,
          0.06023173919463748,
          0.06171830761464812,
          0.06252665147497916,
          0.06213324632959548,
          0.06272106749980529,
          0.06887852930944101,
          0.07171541192758363,
          0.07111366466665672,
          0.07268817263291727,
          0.07604442510620575,
          0.07850784301464983,
          0.08288395655072107,
          0.08522113239887416,
          0.08957376106842055,
          0.09256977013566607,
          0.09184638928199206,
          0.0894537471857835,
          0.08731674848676205,
          0.086304631159289,
          0.0863322752417276,
          0.08692097225899605,
          0.08664321520523244,
          0.0886859761085941,
          0.09050742761790691,
          0.09149469035516965,
          0.09182255920762865,
          0.09100034322743401,
          0.09155267933753905,
          0.09093404053641221,
          0.09252541534388559,
          0.08546990851516739,
          0.08330774015805317,
          0.0811115617020625,
          0.0797051632224933,
          0.0771358311642323,
          0.07479568186205768,
          0.0715611719976927,
          0.06988180569554743,
          0.06532170888337382,
          0.06313051486275117,
          0.06209784453753782,
          0.06151644451341335,
          0.061236713602387534,
          0.060032491435373696,
          0.05850541141417603,
          0.05832547603885308,
          0.05895497822585145,
          0.05723782815613119,
          0.05671798688628992,
          0.05482106470278238,
          0.053442664914031386,
          0.05303394241943755,
          0.053393371722528817,
          0.05257516747171822,
          0.04999238448017611,
          0.04926685411664706,
          0.04814956361451258,
          0.04835436713392285,
          0.0478719747926624,
          0.04923401859210842,
          0.050223499783051545,
          0.048900205911185254,
          0.04925660401545065,
          0.04856689882512056,
          0.048433190746090524,
          0.05016802198093366,
          0.050055306274387305,
          0.05108932336566713,
          0.05672242618636018,
          0.05581997177802342,
          0.05582146654633433,
          0.05621539253195268,
          0.05802156645923476,
          0.05705728074494905,
          0.05759467911893278,
          0.05901607284944652,
          0.05876687758376039,
          0.05753332240654324,
          0.05733939674995851,
          0.05761753710931714,
          0.057493254373473315,
          0.059066193801844954
         ]
        }
       ],
       "layout": {
        "height": 350,
        "legend": {
         "x": 1,
         "xanchor": "right",
         "y": 1,
         "yanchor": "top"
        },
        "margin": {
         "b": 30,
         "l": 15,
         "r": 15,
         "t": 15
        },
        "plot_bgcolor": "rgba(0,0,0,0)",
        "template": {
         "data": {
          "bar": [
           {
            "error_x": {
             "color": "#2a3f5f"
            },
            "error_y": {
             "color": "#2a3f5f"
            },
            "marker": {
             "line": {
              "color": "#E5ECF6",
              "width": 0.5
             },
             "pattern": {
              "fillmode": "overlay",
              "size": 10,
              "solidity": 0.2
             }
            },
            "type": "bar"
           }
          ],
          "barpolar": [
           {
            "marker": {
             "line": {
              "color": "#E5ECF6",
              "width": 0.5
             },
             "pattern": {
              "fillmode": "overlay",
              "size": 10,
              "solidity": 0.2
             }
            },
            "type": "barpolar"
           }
          ],
          "carpet": [
           {
            "aaxis": {
             "endlinecolor": "#2a3f5f",
             "gridcolor": "white",
             "linecolor": "white",
             "minorgridcolor": "white",
             "startlinecolor": "#2a3f5f"
            },
            "baxis": {
             "endlinecolor": "#2a3f5f",
             "gridcolor": "white",
             "linecolor": "white",
             "minorgridcolor": "white",
             "startlinecolor": "#2a3f5f"
            },
            "type": "carpet"
           }
          ],
          "choropleth": [
           {
            "colorbar": {
             "outlinewidth": 0,
             "ticks": ""
            },
            "type": "choropleth"
           }
          ],
          "contour": [
           {
            "colorbar": {
             "outlinewidth": 0,
             "ticks": ""
            },
            "colorscale": [
             [
              0,
              "#0d0887"
             ],
             [
              0.1111111111111111,
              "#46039f"
             ],
             [
              0.2222222222222222,
              "#7201a8"
             ],
             [
              0.3333333333333333,
              "#9c179e"
             ],
             [
              0.4444444444444444,
              "#bd3786"
             ],
             [
              0.5555555555555556,
              "#d8576b"
             ],
             [
              0.6666666666666666,
              "#ed7953"
             ],
             [
              0.7777777777777778,
              "#fb9f3a"
             ],
             [
              0.8888888888888888,
              "#fdca26"
             ],
             [
              1,
              "#f0f921"
             ]
            ],
            "type": "contour"
           }
          ],
          "contourcarpet": [
           {
            "colorbar": {
             "outlinewidth": 0,
             "ticks": ""
            },
            "type": "contourcarpet"
           }
          ],
          "heatmap": [
           {
            "colorbar": {
             "outlinewidth": 0,
             "ticks": ""
            },
            "colorscale": [
             [
              0,
              "#0d0887"
             ],
             [
              0.1111111111111111,
              "#46039f"
             ],
             [
              0.2222222222222222,
              "#7201a8"
             ],
             [
              0.3333333333333333,
              "#9c179e"
             ],
             [
              0.4444444444444444,
              "#bd3786"
             ],
             [
              0.5555555555555556,
              "#d8576b"
             ],
             [
              0.6666666666666666,
              "#ed7953"
             ],
             [
              0.7777777777777778,
              "#fb9f3a"
             ],
             [
              0.8888888888888888,
              "#fdca26"
             ],
             [
              1,
              "#f0f921"
             ]
            ],
            "type": "heatmap"
           }
          ],
          "heatmapgl": [
           {
            "colorbar": {
             "outlinewidth": 0,
             "ticks": ""
            },
            "colorscale": [
             [
              0,
              "#0d0887"
             ],
             [
              0.1111111111111111,
              "#46039f"
             ],
             [
              0.2222222222222222,
              "#7201a8"
             ],
             [
              0.3333333333333333,
              "#9c179e"
             ],
             [
              0.4444444444444444,
              "#bd3786"
             ],
             [
              0.5555555555555556,
              "#d8576b"
             ],
             [
              0.6666666666666666,
              "#ed7953"
             ],
             [
              0.7777777777777778,
              "#fb9f3a"
             ],
             [
              0.8888888888888888,
              "#fdca26"
             ],
             [
              1,
              "#f0f921"
             ]
            ],
            "type": "heatmapgl"
           }
          ],
          "histogram": [
           {
            "marker": {
             "pattern": {
              "fillmode": "overlay",
              "size": 10,
              "solidity": 0.2
             }
            },
            "type": "histogram"
           }
          ],
          "histogram2d": [
           {
            "colorbar": {
             "outlinewidth": 0,
             "ticks": ""
            },
            "colorscale": [
             [
              0,
              "#0d0887"
             ],
             [
              0.1111111111111111,
              "#46039f"
             ],
             [
              0.2222222222222222,
              "#7201a8"
             ],
             [
              0.3333333333333333,
              "#9c179e"
             ],
             [
              0.4444444444444444,
              "#bd3786"
             ],
             [
              0.5555555555555556,
              "#d8576b"
             ],
             [
              0.6666666666666666,
              "#ed7953"
             ],
             [
              0.7777777777777778,
              "#fb9f3a"
             ],
             [
              0.8888888888888888,
              "#fdca26"
             ],
             [
              1,
              "#f0f921"
             ]
            ],
            "type": "histogram2d"
           }
          ],
          "histogram2dcontour": [
           {
            "colorbar": {
             "outlinewidth": 0,
             "ticks": ""
            },
            "colorscale": [
             [
              0,
              "#0d0887"
             ],
             [
              0.1111111111111111,
              "#46039f"
             ],
             [
              0.2222222222222222,
              "#7201a8"
             ],
             [
              0.3333333333333333,
              "#9c179e"
             ],
             [
              0.4444444444444444,
              "#bd3786"
             ],
             [
              0.5555555555555556,
              "#d8576b"
             ],
             [
              0.6666666666666666,
              "#ed7953"
             ],
             [
              0.7777777777777778,
              "#fb9f3a"
             ],
             [
              0.8888888888888888,
              "#fdca26"
             ],
             [
              1,
              "#f0f921"
             ]
            ],
            "type": "histogram2dcontour"
           }
          ],
          "mesh3d": [
           {
            "colorbar": {
             "outlinewidth": 0,
             "ticks": ""
            },
            "type": "mesh3d"
           }
          ],
          "parcoords": [
           {
            "line": {
             "colorbar": {
              "outlinewidth": 0,
              "ticks": ""
             }
            },
            "type": "parcoords"
           }
          ],
          "pie": [
           {
            "automargin": true,
            "type": "pie"
           }
          ],
          "scatter": [
           {
            "fillpattern": {
             "fillmode": "overlay",
             "size": 10,
             "solidity": 0.2
            },
            "type": "scatter"
           }
          ],
          "scatter3d": [
           {
            "line": {
             "colorbar": {
              "outlinewidth": 0,
              "ticks": ""
             }
            },
            "marker": {
             "colorbar": {
              "outlinewidth": 0,
              "ticks": ""
             }
            },
            "type": "scatter3d"
           }
          ],
          "scattercarpet": [
           {
            "marker": {
             "colorbar": {
              "outlinewidth": 0,
              "ticks": ""
             }
            },
            "type": "scattercarpet"
           }
          ],
          "scattergeo": [
           {
            "marker": {
             "colorbar": {
              "outlinewidth": 0,
              "ticks": ""
             }
            },
            "type": "scattergeo"
           }
          ],
          "scattergl": [
           {
            "marker": {
             "colorbar": {
              "outlinewidth": 0,
              "ticks": ""
             }
            },
            "type": "scattergl"
           }
          ],
          "scattermapbox": [
           {
            "marker": {
             "colorbar": {
              "outlinewidth": 0,
              "ticks": ""
             }
            },
            "type": "scattermapbox"
           }
          ],
          "scatterpolar": [
           {
            "marker": {
             "colorbar": {
              "outlinewidth": 0,
              "ticks": ""
             }
            },
            "type": "scatterpolar"
           }
          ],
          "scatterpolargl": [
           {
            "marker": {
             "colorbar": {
              "outlinewidth": 0,
              "ticks": ""
             }
            },
            "type": "scatterpolargl"
           }
          ],
          "scatterternary": [
           {
            "marker": {
             "colorbar": {
              "outlinewidth": 0,
              "ticks": ""
             }
            },
            "type": "scatterternary"
           }
          ],
          "surface": [
           {
            "colorbar": {
             "outlinewidth": 0,
             "ticks": ""
            },
            "colorscale": [
             [
              0,
              "#0d0887"
             ],
             [
              0.1111111111111111,
              "#46039f"
             ],
             [
              0.2222222222222222,
              "#7201a8"
             ],
             [
              0.3333333333333333,
              "#9c179e"
             ],
             [
              0.4444444444444444,
              "#bd3786"
             ],
             [
              0.5555555555555556,
              "#d8576b"
             ],
             [
              0.6666666666666666,
              "#ed7953"
             ],
             [
              0.7777777777777778,
              "#fb9f3a"
             ],
             [
              0.8888888888888888,
              "#fdca26"
             ],
             [
              1,
              "#f0f921"
             ]
            ],
            "type": "surface"
           }
          ],
          "table": [
           {
            "cells": {
             "fill": {
              "color": "#EBF0F8"
             },
             "line": {
              "color": "white"
             }
            },
            "header": {
             "fill": {
              "color": "#C8D4E3"
             },
             "line": {
              "color": "white"
             }
            },
            "type": "table"
           }
          ]
         },
         "layout": {
          "annotationdefaults": {
           "arrowcolor": "#2a3f5f",
           "arrowhead": 0,
           "arrowwidth": 1
          },
          "autotypenumbers": "strict",
          "coloraxis": {
           "colorbar": {
            "outlinewidth": 0,
            "ticks": ""
           }
          },
          "colorscale": {
           "diverging": [
            [
             0,
             "#8e0152"
            ],
            [
             0.1,
             "#c51b7d"
            ],
            [
             0.2,
             "#de77ae"
            ],
            [
             0.3,
             "#f1b6da"
            ],
            [
             0.4,
             "#fde0ef"
            ],
            [
             0.5,
             "#f7f7f7"
            ],
            [
             0.6,
             "#e6f5d0"
            ],
            [
             0.7,
             "#b8e186"
            ],
            [
             0.8,
             "#7fbc41"
            ],
            [
             0.9,
             "#4d9221"
            ],
            [
             1,
             "#276419"
            ]
           ],
           "sequential": [
            [
             0,
             "#0d0887"
            ],
            [
             0.1111111111111111,
             "#46039f"
            ],
            [
             0.2222222222222222,
             "#7201a8"
            ],
            [
             0.3333333333333333,
             "#9c179e"
            ],
            [
             0.4444444444444444,
             "#bd3786"
            ],
            [
             0.5555555555555556,
             "#d8576b"
            ],
            [
             0.6666666666666666,
             "#ed7953"
            ],
            [
             0.7777777777777778,
             "#fb9f3a"
            ],
            [
             0.8888888888888888,
             "#fdca26"
            ],
            [
             1,
             "#f0f921"
            ]
           ],
           "sequentialminus": [
            [
             0,
             "#0d0887"
            ],
            [
             0.1111111111111111,
             "#46039f"
            ],
            [
             0.2222222222222222,
             "#7201a8"
            ],
            [
             0.3333333333333333,
             "#9c179e"
            ],
            [
             0.4444444444444444,
             "#bd3786"
            ],
            [
             0.5555555555555556,
             "#d8576b"
            ],
            [
             0.6666666666666666,
             "#ed7953"
            ],
            [
             0.7777777777777778,
             "#fb9f3a"
            ],
            [
             0.8888888888888888,
             "#fdca26"
            ],
            [
             1,
             "#f0f921"
            ]
           ]
          },
          "colorway": [
           "#636efa",
           "#EF553B",
           "#00cc96",
           "#ab63fa",
           "#FFA15A",
           "#19d3f3",
           "#FF6692",
           "#B6E880",
           "#FF97FF",
           "#FECB52"
          ],
          "font": {
           "color": "#2a3f5f"
          },
          "geo": {
           "bgcolor": "white",
           "lakecolor": "white",
           "landcolor": "#E5ECF6",
           "showlakes": true,
           "showland": true,
           "subunitcolor": "white"
          },
          "hoverlabel": {
           "align": "left"
          },
          "hovermode": "closest",
          "mapbox": {
           "style": "light"
          },
          "paper_bgcolor": "white",
          "plot_bgcolor": "#E5ECF6",
          "polar": {
           "angularaxis": {
            "gridcolor": "white",
            "linecolor": "white",
            "ticks": ""
           },
           "bgcolor": "#E5ECF6",
           "radialaxis": {
            "gridcolor": "white",
            "linecolor": "white",
            "ticks": ""
           }
          },
          "scene": {
           "xaxis": {
            "backgroundcolor": "#E5ECF6",
            "gridcolor": "white",
            "gridwidth": 2,
            "linecolor": "white",
            "showbackground": true,
            "ticks": "",
            "zerolinecolor": "white"
           },
           "yaxis": {
            "backgroundcolor": "#E5ECF6",
            "gridcolor": "white",
            "gridwidth": 2,
            "linecolor": "white",
            "showbackground": true,
            "ticks": "",
            "zerolinecolor": "white"
           },
           "zaxis": {
            "backgroundcolor": "#E5ECF6",
            "gridcolor": "white",
            "gridwidth": 2,
            "linecolor": "white",
            "showbackground": true,
            "ticks": "",
            "zerolinecolor": "white"
           }
          },
          "shapedefaults": {
           "line": {
            "color": "#2a3f5f"
           }
          },
          "ternary": {
           "aaxis": {
            "gridcolor": "white",
            "linecolor": "white",
            "ticks": ""
           },
           "baxis": {
            "gridcolor": "white",
            "linecolor": "white",
            "ticks": ""
           },
           "bgcolor": "#E5ECF6",
           "caxis": {
            "gridcolor": "white",
            "linecolor": "white",
            "ticks": ""
           }
          },
          "title": {
           "x": 0.05
          },
          "xaxis": {
           "automargin": true,
           "gridcolor": "white",
           "linecolor": "white",
           "ticks": "",
           "title": {
            "standoff": 15
           },
           "zerolinecolor": "white",
           "zerolinewidth": 2
          },
          "yaxis": {
           "automargin": true,
           "gridcolor": "white",
           "linecolor": "white",
           "ticks": "",
           "title": {
            "standoff": 15
           },
           "zerolinecolor": "white",
           "zerolinewidth": 2
          }
         }
        },
        "xaxis": {
         "fixedrange": true,
         "showgrid": false,
         "showticklabels": false
        },
        "yaxis": {
         "fixedrange": true,
         "range": [
          0,
          0.22826086956521738
         ],
         "showgrid": false,
         "tickformat": ".0%",
         "title": {
          "text": "% of Total Points Scored"
         }
        }
       }
      }
     },
     "metadata": {},
     "output_type": "display_data"
    }
   ],
   "source": [
    "# Make the Plotly figure\n",
    "pct_of_total_fig = percentage_of_total_points_scored_line_graph(\n",
    "    round_level_stats_df=round_level_stats_df,\n",
    "    show_each_round=False,\n",
    "    show_rolling_avg=True,\n",
    "    rolling_avg_window_size=25,\n",
    "    hide_legend=False,\n",
    ")\n",
    "\n",
    "# Show the figure\n",
    "pct_of_total_fig.show()"
   ]
  },
  {
   "cell_type": "markdown",
   "metadata": {},
   "source": [
    "### Win/Loss Heatmap\n",
    "The following visualization is a \"win/loss heatmap\". "
   ]
  },
  {
   "cell_type": "code",
   "execution_count": 5,
   "metadata": {},
   "outputs": [
    {
     "data": {
      "application/vnd.plotly.v1+json": {
       "config": {
        "plotlyServerURL": "https://plot.ly"
       },
       "data": [
        {
         "colorbar": {
          "title": {
           "text": "Winner"
          }
         },
         "colorscale": [
          [
           0,
           "#D02F37"
          ],
          [
           1,
           "#117E9B"
          ]
         ],
         "showscale": false,
         "type": "heatmap",
         "x": [
          0,
          1,
          2,
          3,
          4,
          5,
          6,
          7,
          8,
          9,
          10,
          11,
          12,
          13,
          14,
          15,
          16,
          17,
          18,
          19,
          20,
          21,
          22,
          23
         ],
         "y": [
          "Sarah",
          "Trevor"
         ],
         "z": [
          [
           null,
           null,
           null,
           0,
           0,
           null,
           0,
           0,
           0,
           null,
           0,
           0,
           0,
           0,
           null,
           0,
           0,
           null,
           0,
           0,
           null,
           0,
           null,
           null
          ],
          [
           1,
           1,
           1,
           null,
           null,
           1,
           null,
           null,
           null,
           1,
           null,
           null,
           null,
           null,
           1,
           null,
           null,
           1,
           null,
           null,
           1,
           null,
           1,
           1
          ]
         ]
        }
       ],
       "layout": {
        "annotations": [
         {
          "font": {
           "color": "black",
           "size": 16
          },
          "showarrow": false,
          "text": "<b>3</b>",
          "x": 1,
          "xanchor": "center",
          "xref": "x",
          "y": 1,
          "yanchor": "middle",
          "yref": "y"
         },
         {
          "font": {
           "color": "black",
           "size": 16
          },
          "showarrow": false,
          "text": "<b>4</b>",
          "x": 11.5,
          "xanchor": "center",
          "xref": "x",
          "y": 0,
          "yanchor": "middle",
          "yref": "y"
         }
        ],
        "height": 150,
        "margin": {
         "b": 40,
         "l": 25,
         "pad": 10,
         "r": 25,
         "t": 25
        },
        "plot_bgcolor": "rgba(0,0,0,0)",
        "shapes": [
         {
          "line": {
           "color": "black",
           "dash": "dot",
           "width": 1
          },
          "type": "line",
          "x0": 7,
          "x1": 7,
          "xref": "x",
          "y0": 0,
          "y1": 1,
          "yref": "y domain"
         },
         {
          "line": {
           "color": "black",
           "dash": "dot",
           "width": 1
          },
          "type": "line",
          "x0": 14,
          "x1": 14,
          "xref": "x",
          "y0": 0,
          "y1": 1,
          "yref": "y domain"
         },
         {
          "line": {
           "color": "black",
           "dash": "dot",
           "width": 1
          },
          "type": "line",
          "x0": 13,
          "x1": 13,
          "xref": "x",
          "y0": 0,
          "y1": 1,
          "yref": "y domain"
         },
         {
          "line": {
           "color": "black",
           "dash": "dot",
           "width": 1
          },
          "type": "line",
          "x0": 20,
          "x1": 20,
          "xref": "x",
          "y0": 0,
          "y1": 1,
          "yref": "y domain"
         },
         {
          "line": {
           "color": "black",
           "dash": "dot",
           "width": 1
          },
          "type": "line",
          "x0": 3,
          "x1": 3,
          "xref": "x",
          "y0": 0,
          "y1": 1,
          "yref": "y domain"
         },
         {
          "line": {
           "color": "black",
           "dash": "dot",
           "width": 1
          },
          "type": "line",
          "x0": 0,
          "x1": 0,
          "xref": "x",
          "y0": 0,
          "y1": 1,
          "yref": "y domain"
         },
         {
          "line": {
           "color": "black",
           "width": 3
          },
          "type": "rect",
          "x0": -0.5,
          "x1": 2.5,
          "y0": 0.5,
          "y1": 1.5,
          "yanchor": "bottom"
         },
         {
          "line": {
           "color": "black",
           "width": 3
          },
          "type": "rect",
          "x0": 9.5,
          "x1": 13.5,
          "y0": -0.5,
          "y1": 0.5,
          "yanchor": "bottom"
         }
        ],
        "template": {
         "data": {
          "bar": [
           {
            "error_x": {
             "color": "#2a3f5f"
            },
            "error_y": {
             "color": "#2a3f5f"
            },
            "marker": {
             "line": {
              "color": "#E5ECF6",
              "width": 0.5
             },
             "pattern": {
              "fillmode": "overlay",
              "size": 10,
              "solidity": 0.2
             }
            },
            "type": "bar"
           }
          ],
          "barpolar": [
           {
            "marker": {
             "line": {
              "color": "#E5ECF6",
              "width": 0.5
             },
             "pattern": {
              "fillmode": "overlay",
              "size": 10,
              "solidity": 0.2
             }
            },
            "type": "barpolar"
           }
          ],
          "carpet": [
           {
            "aaxis": {
             "endlinecolor": "#2a3f5f",
             "gridcolor": "white",
             "linecolor": "white",
             "minorgridcolor": "white",
             "startlinecolor": "#2a3f5f"
            },
            "baxis": {
             "endlinecolor": "#2a3f5f",
             "gridcolor": "white",
             "linecolor": "white",
             "minorgridcolor": "white",
             "startlinecolor": "#2a3f5f"
            },
            "type": "carpet"
           }
          ],
          "choropleth": [
           {
            "colorbar": {
             "outlinewidth": 0,
             "ticks": ""
            },
            "type": "choropleth"
           }
          ],
          "contour": [
           {
            "colorbar": {
             "outlinewidth": 0,
             "ticks": ""
            },
            "colorscale": [
             [
              0,
              "#0d0887"
             ],
             [
              0.1111111111111111,
              "#46039f"
             ],
             [
              0.2222222222222222,
              "#7201a8"
             ],
             [
              0.3333333333333333,
              "#9c179e"
             ],
             [
              0.4444444444444444,
              "#bd3786"
             ],
             [
              0.5555555555555556,
              "#d8576b"
             ],
             [
              0.6666666666666666,
              "#ed7953"
             ],
             [
              0.7777777777777778,
              "#fb9f3a"
             ],
             [
              0.8888888888888888,
              "#fdca26"
             ],
             [
              1,
              "#f0f921"
             ]
            ],
            "type": "contour"
           }
          ],
          "contourcarpet": [
           {
            "colorbar": {
             "outlinewidth": 0,
             "ticks": ""
            },
            "type": "contourcarpet"
           }
          ],
          "heatmap": [
           {
            "colorbar": {
             "outlinewidth": 0,
             "ticks": ""
            },
            "colorscale": [
             [
              0,
              "#0d0887"
             ],
             [
              0.1111111111111111,
              "#46039f"
             ],
             [
              0.2222222222222222,
              "#7201a8"
             ],
             [
              0.3333333333333333,
              "#9c179e"
             ],
             [
              0.4444444444444444,
              "#bd3786"
             ],
             [
              0.5555555555555556,
              "#d8576b"
             ],
             [
              0.6666666666666666,
              "#ed7953"
             ],
             [
              0.7777777777777778,
              "#fb9f3a"
             ],
             [
              0.8888888888888888,
              "#fdca26"
             ],
             [
              1,
              "#f0f921"
             ]
            ],
            "type": "heatmap"
           }
          ],
          "heatmapgl": [
           {
            "colorbar": {
             "outlinewidth": 0,
             "ticks": ""
            },
            "colorscale": [
             [
              0,
              "#0d0887"
             ],
             [
              0.1111111111111111,
              "#46039f"
             ],
             [
              0.2222222222222222,
              "#7201a8"
             ],
             [
              0.3333333333333333,
              "#9c179e"
             ],
             [
              0.4444444444444444,
              "#bd3786"
             ],
             [
              0.5555555555555556,
              "#d8576b"
             ],
             [
              0.6666666666666666,
              "#ed7953"
             ],
             [
              0.7777777777777778,
              "#fb9f3a"
             ],
             [
              0.8888888888888888,
              "#fdca26"
             ],
             [
              1,
              "#f0f921"
             ]
            ],
            "type": "heatmapgl"
           }
          ],
          "histogram": [
           {
            "marker": {
             "pattern": {
              "fillmode": "overlay",
              "size": 10,
              "solidity": 0.2
             }
            },
            "type": "histogram"
           }
          ],
          "histogram2d": [
           {
            "colorbar": {
             "outlinewidth": 0,
             "ticks": ""
            },
            "colorscale": [
             [
              0,
              "#0d0887"
             ],
             [
              0.1111111111111111,
              "#46039f"
             ],
             [
              0.2222222222222222,
              "#7201a8"
             ],
             [
              0.3333333333333333,
              "#9c179e"
             ],
             [
              0.4444444444444444,
              "#bd3786"
             ],
             [
              0.5555555555555556,
              "#d8576b"
             ],
             [
              0.6666666666666666,
              "#ed7953"
             ],
             [
              0.7777777777777778,
              "#fb9f3a"
             ],
             [
              0.8888888888888888,
              "#fdca26"
             ],
             [
              1,
              "#f0f921"
             ]
            ],
            "type": "histogram2d"
           }
          ],
          "histogram2dcontour": [
           {
            "colorbar": {
             "outlinewidth": 0,
             "ticks": ""
            },
            "colorscale": [
             [
              0,
              "#0d0887"
             ],
             [
              0.1111111111111111,
              "#46039f"
             ],
             [
              0.2222222222222222,
              "#7201a8"
             ],
             [
              0.3333333333333333,
              "#9c179e"
             ],
             [
              0.4444444444444444,
              "#bd3786"
             ],
             [
              0.5555555555555556,
              "#d8576b"
             ],
             [
              0.6666666666666666,
              "#ed7953"
             ],
             [
              0.7777777777777778,
              "#fb9f3a"
             ],
             [
              0.8888888888888888,
              "#fdca26"
             ],
             [
              1,
              "#f0f921"
             ]
            ],
            "type": "histogram2dcontour"
           }
          ],
          "mesh3d": [
           {
            "colorbar": {
             "outlinewidth": 0,
             "ticks": ""
            },
            "type": "mesh3d"
           }
          ],
          "parcoords": [
           {
            "line": {
             "colorbar": {
              "outlinewidth": 0,
              "ticks": ""
             }
            },
            "type": "parcoords"
           }
          ],
          "pie": [
           {
            "automargin": true,
            "type": "pie"
           }
          ],
          "scatter": [
           {
            "fillpattern": {
             "fillmode": "overlay",
             "size": 10,
             "solidity": 0.2
            },
            "type": "scatter"
           }
          ],
          "scatter3d": [
           {
            "line": {
             "colorbar": {
              "outlinewidth": 0,
              "ticks": ""
             }
            },
            "marker": {
             "colorbar": {
              "outlinewidth": 0,
              "ticks": ""
             }
            },
            "type": "scatter3d"
           }
          ],
          "scattercarpet": [
           {
            "marker": {
             "colorbar": {
              "outlinewidth": 0,
              "ticks": ""
             }
            },
            "type": "scattercarpet"
           }
          ],
          "scattergeo": [
           {
            "marker": {
             "colorbar": {
              "outlinewidth": 0,
              "ticks": ""
             }
            },
            "type": "scattergeo"
           }
          ],
          "scattergl": [
           {
            "marker": {
             "colorbar": {
              "outlinewidth": 0,
              "ticks": ""
             }
            },
            "type": "scattergl"
           }
          ],
          "scattermapbox": [
           {
            "marker": {
             "colorbar": {
              "outlinewidth": 0,
              "ticks": ""
             }
            },
            "type": "scattermapbox"
           }
          ],
          "scatterpolar": [
           {
            "marker": {
             "colorbar": {
              "outlinewidth": 0,
              "ticks": ""
             }
            },
            "type": "scatterpolar"
           }
          ],
          "scatterpolargl": [
           {
            "marker": {
             "colorbar": {
              "outlinewidth": 0,
              "ticks": ""
             }
            },
            "type": "scatterpolargl"
           }
          ],
          "scatterternary": [
           {
            "marker": {
             "colorbar": {
              "outlinewidth": 0,
              "ticks": ""
             }
            },
            "type": "scatterternary"
           }
          ],
          "surface": [
           {
            "colorbar": {
             "outlinewidth": 0,
             "ticks": ""
            },
            "colorscale": [
             [
              0,
              "#0d0887"
             ],
             [
              0.1111111111111111,
              "#46039f"
             ],
             [
              0.2222222222222222,
              "#7201a8"
             ],
             [
              0.3333333333333333,
              "#9c179e"
             ],
             [
              0.4444444444444444,
              "#bd3786"
             ],
             [
              0.5555555555555556,
              "#d8576b"
             ],
             [
              0.6666666666666666,
              "#ed7953"
             ],
             [
              0.7777777777777778,
              "#fb9f3a"
             ],
             [
              0.8888888888888888,
              "#fdca26"
             ],
             [
              1,
              "#f0f921"
             ]
            ],
            "type": "surface"
           }
          ],
          "table": [
           {
            "cells": {
             "fill": {
              "color": "#EBF0F8"
             },
             "line": {
              "color": "white"
             }
            },
            "header": {
             "fill": {
              "color": "#C8D4E3"
             },
             "line": {
              "color": "white"
             }
            },
            "type": "table"
           }
          ]
         },
         "layout": {
          "annotationdefaults": {
           "arrowcolor": "#2a3f5f",
           "arrowhead": 0,
           "arrowwidth": 1
          },
          "autotypenumbers": "strict",
          "coloraxis": {
           "colorbar": {
            "outlinewidth": 0,
            "ticks": ""
           }
          },
          "colorscale": {
           "diverging": [
            [
             0,
             "#8e0152"
            ],
            [
             0.1,
             "#c51b7d"
            ],
            [
             0.2,
             "#de77ae"
            ],
            [
             0.3,
             "#f1b6da"
            ],
            [
             0.4,
             "#fde0ef"
            ],
            [
             0.5,
             "#f7f7f7"
            ],
            [
             0.6,
             "#e6f5d0"
            ],
            [
             0.7,
             "#b8e186"
            ],
            [
             0.8,
             "#7fbc41"
            ],
            [
             0.9,
             "#4d9221"
            ],
            [
             1,
             "#276419"
            ]
           ],
           "sequential": [
            [
             0,
             "#0d0887"
            ],
            [
             0.1111111111111111,
             "#46039f"
            ],
            [
             0.2222222222222222,
             "#7201a8"
            ],
            [
             0.3333333333333333,
             "#9c179e"
            ],
            [
             0.4444444444444444,
             "#bd3786"
            ],
            [
             0.5555555555555556,
             "#d8576b"
            ],
            [
             0.6666666666666666,
             "#ed7953"
            ],
            [
             0.7777777777777778,
             "#fb9f3a"
            ],
            [
             0.8888888888888888,
             "#fdca26"
            ],
            [
             1,
             "#f0f921"
            ]
           ],
           "sequentialminus": [
            [
             0,
             "#0d0887"
            ],
            [
             0.1111111111111111,
             "#46039f"
            ],
            [
             0.2222222222222222,
             "#7201a8"
            ],
            [
             0.3333333333333333,
             "#9c179e"
            ],
            [
             0.4444444444444444,
             "#bd3786"
            ],
            [
             0.5555555555555556,
             "#d8576b"
            ],
            [
             0.6666666666666666,
             "#ed7953"
            ],
            [
             0.7777777777777778,
             "#fb9f3a"
            ],
            [
             0.8888888888888888,
             "#fdca26"
            ],
            [
             1,
             "#f0f921"
            ]
           ]
          },
          "colorway": [
           "#636efa",
           "#EF553B",
           "#00cc96",
           "#ab63fa",
           "#FFA15A",
           "#19d3f3",
           "#FF6692",
           "#B6E880",
           "#FF97FF",
           "#FECB52"
          ],
          "font": {
           "color": "#2a3f5f"
          },
          "geo": {
           "bgcolor": "white",
           "lakecolor": "white",
           "landcolor": "#E5ECF6",
           "showlakes": true,
           "showland": true,
           "subunitcolor": "white"
          },
          "hoverlabel": {
           "align": "left"
          },
          "hovermode": "closest",
          "mapbox": {
           "style": "light"
          },
          "paper_bgcolor": "white",
          "plot_bgcolor": "#E5ECF6",
          "polar": {
           "angularaxis": {
            "gridcolor": "white",
            "linecolor": "white",
            "ticks": ""
           },
           "bgcolor": "#E5ECF6",
           "radialaxis": {
            "gridcolor": "white",
            "linecolor": "white",
            "ticks": ""
           }
          },
          "scene": {
           "xaxis": {
            "backgroundcolor": "#E5ECF6",
            "gridcolor": "white",
            "gridwidth": 2,
            "linecolor": "white",
            "showbackground": true,
            "ticks": "",
            "zerolinecolor": "white"
           },
           "yaxis": {
            "backgroundcolor": "#E5ECF6",
            "gridcolor": "white",
            "gridwidth": 2,
            "linecolor": "white",
            "showbackground": true,
            "ticks": "",
            "zerolinecolor": "white"
           },
           "zaxis": {
            "backgroundcolor": "#E5ECF6",
            "gridcolor": "white",
            "gridwidth": 2,
            "linecolor": "white",
            "showbackground": true,
            "ticks": "",
            "zerolinecolor": "white"
           }
          },
          "shapedefaults": {
           "line": {
            "color": "#2a3f5f"
           }
          },
          "ternary": {
           "aaxis": {
            "gridcolor": "white",
            "linecolor": "white",
            "ticks": ""
           },
           "baxis": {
            "gridcolor": "white",
            "linecolor": "white",
            "ticks": ""
           },
           "bgcolor": "#E5ECF6",
           "caxis": {
            "gridcolor": "white",
            "linecolor": "white",
            "ticks": ""
           }
          },
          "title": {
           "x": 0.05
          },
          "xaxis": {
           "automargin": true,
           "gridcolor": "white",
           "linecolor": "white",
           "ticks": "",
           "title": {
            "standoff": 15
           },
           "zerolinecolor": "white",
           "zerolinewidth": 2
          },
          "yaxis": {
           "automargin": true,
           "gridcolor": "white",
           "linecolor": "white",
           "ticks": "",
           "title": {
            "standoff": 15
           },
           "zerolinecolor": "white",
           "zerolinewidth": 2
          }
         }
        },
        "xaxis": {
         "fixedrange": true,
         "tickangle": 45,
         "tickmode": "array",
         "ticktext": [
          "Dec 2023",
          "Feb 2024",
          "Jan 2024",
          "Mar 2024",
          "Nov 2023",
          "Oct 2023"
         ],
         "tickvals": [
          7,
          14,
          13,
          20,
          3,
          0
         ]
        },
        "yaxis": {
         "fixedrange": true
        }
       }
      }
     },
     "metadata": {},
     "output_type": "display_data"
    }
   ],
   "source": [
    "# Make the Plotly figure\n",
    "win_loss_heatmap_fig = win_loss_heatmap(\n",
    "    game_level_stats_df=game_level_stats_df,\n",
    "    show_dates=True,\n",
    "    show_longest_streak=True,\n",
    "    plot_height=150\n",
    ")\n",
    "\n",
    "# Show the figure\n",
    "win_loss_heatmap_fig.show()"
   ]
  },
  {
   "cell_type": "markdown",
   "metadata": {},
   "source": [
    "# Round Score Distribution Boxplot\n",
    "How high-scoring are we across different rounds?"
   ]
  },
  {
   "cell_type": "code",
   "execution_count": 9,
   "metadata": {},
   "outputs": [
    {
     "data": {
      "application/vnd.plotly.v1+json": {
       "config": {
        "plotlyServerURL": "https://plot.ly"
       },
       "data": [
        {
         "alignmentgroup": "True",
         "boxpoints": "all",
         "hovertemplate": "=%{x}<br>Points Scored=%{y}<extra></extra>",
         "legendgroup": "Trevor",
         "marker": {
          "color": "#117E9B",
          "line": {
           "color": "black",
           "width": 1
          },
          "opacity": 0.7
         },
         "name": "Trevor",
         "notched": false,
         "offsetgroup": "Trevor",
         "orientation": "v",
         "showlegend": true,
         "type": "box",
         "x": [
          "Trevor",
          "Trevor",
          "Trevor",
          "Trevor",
          "Trevor",
          "Trevor",
          "Trevor",
          "Trevor",
          "Trevor",
          "Trevor",
          "Trevor",
          "Trevor",
          "Trevor",
          "Trevor",
          "Trevor",
          "Trevor",
          "Trevor",
          "Trevor",
          "Trevor",
          "Trevor",
          "Trevor",
          "Trevor",
          "Trevor",
          "Trevor",
          "Trevor",
          "Trevor",
          "Trevor",
          "Trevor",
          "Trevor",
          "Trevor",
          "Trevor",
          "Trevor",
          "Trevor",
          "Trevor",
          "Trevor",
          "Trevor",
          "Trevor",
          "Trevor",
          "Trevor",
          "Trevor",
          "Trevor",
          "Trevor",
          "Trevor",
          "Trevor",
          "Trevor",
          "Trevor",
          "Trevor",
          "Trevor",
          "Trevor",
          "Trevor",
          "Trevor",
          "Trevor",
          "Trevor",
          "Trevor",
          "Trevor",
          "Trevor",
          "Trevor",
          "Trevor",
          "Trevor",
          "Trevor",
          "Trevor",
          "Trevor",
          "Trevor",
          "Trevor",
          "Trevor",
          "Trevor",
          "Trevor",
          "Trevor",
          "Trevor",
          "Trevor",
          "Trevor",
          "Trevor",
          "Trevor",
          "Trevor",
          "Trevor",
          "Trevor",
          "Trevor",
          "Trevor",
          "Trevor",
          "Trevor",
          "Trevor",
          "Trevor",
          "Trevor",
          "Trevor",
          "Trevor",
          "Trevor",
          "Trevor",
          "Trevor",
          "Trevor",
          "Trevor",
          "Trevor",
          "Trevor",
          "Trevor",
          "Trevor",
          "Trevor",
          "Trevor",
          "Trevor",
          "Trevor",
          "Trevor",
          "Trevor",
          "Trevor",
          "Trevor",
          "Trevor",
          "Trevor",
          "Trevor",
          "Trevor",
          "Trevor",
          "Trevor"
         ],
         "x0": " ",
         "xaxis": "x",
         "y": [
          56,
          62,
          64,
          36,
          37,
          41,
          31,
          55,
          56,
          55,
          13,
          51,
          37,
          20,
          22,
          54,
          25,
          18,
          40,
          41,
          18,
          36,
          18,
          39,
          37,
          37,
          37,
          70,
          59,
          26,
          38,
          3,
          12,
          33,
          11,
          22,
          17,
          34,
          35,
          38,
          22,
          28,
          12,
          62,
          10,
          55,
          26,
          16,
          10,
          21,
          8,
          26,
          51,
          32,
          79,
          14,
          38,
          25,
          74,
          34,
          29,
          33,
          17,
          19,
          29,
          43,
          75,
          12,
          33,
          36,
          45,
          17,
          47,
          30,
          12,
          48,
          47,
          10,
          21,
          33,
          25,
          12,
          21,
          18,
          41,
          26,
          8,
          24,
          12,
          47,
          56,
          32,
          41,
          14,
          53,
          18,
          6,
          33,
          43,
          40,
          73,
          69,
          34,
          53,
          13,
          19,
          41,
          36
         ],
         "y0": " ",
         "yaxis": "y"
        },
        {
         "alignmentgroup": "True",
         "boxpoints": "all",
         "hovertemplate": "=%{x}<br>Points Scored=%{y}<extra></extra>",
         "legendgroup": "Sarah",
         "marker": {
          "color": "#D02F37",
          "line": {
           "color": "black",
           "width": 1
          },
          "opacity": 0.7
         },
         "name": "Sarah",
         "notched": false,
         "offsetgroup": "Sarah",
         "orientation": "v",
         "showlegend": true,
         "type": "box",
         "x": [
          "Sarah",
          "Sarah",
          "Sarah",
          "Sarah",
          "Sarah",
          "Sarah",
          "Sarah",
          "Sarah",
          "Sarah",
          "Sarah",
          "Sarah",
          "Sarah",
          "Sarah",
          "Sarah",
          "Sarah",
          "Sarah",
          "Sarah",
          "Sarah",
          "Sarah",
          "Sarah",
          "Sarah",
          "Sarah",
          "Sarah",
          "Sarah",
          "Sarah",
          "Sarah",
          "Sarah",
          "Sarah",
          "Sarah",
          "Sarah",
          "Sarah",
          "Sarah",
          "Sarah",
          "Sarah",
          "Sarah",
          "Sarah",
          "Sarah",
          "Sarah",
          "Sarah",
          "Sarah",
          "Sarah",
          "Sarah",
          "Sarah",
          "Sarah",
          "Sarah",
          "Sarah",
          "Sarah",
          "Sarah",
          "Sarah",
          "Sarah",
          "Sarah",
          "Sarah",
          "Sarah",
          "Sarah",
          "Sarah",
          "Sarah",
          "Sarah",
          "Sarah",
          "Sarah",
          "Sarah",
          "Sarah",
          "Sarah",
          "Sarah",
          "Sarah",
          "Sarah",
          "Sarah",
          "Sarah",
          "Sarah",
          "Sarah",
          "Sarah",
          "Sarah",
          "Sarah",
          "Sarah",
          "Sarah",
          "Sarah",
          "Sarah",
          "Sarah",
          "Sarah",
          "Sarah",
          "Sarah",
          "Sarah",
          "Sarah",
          "Sarah",
          "Sarah",
          "Sarah",
          "Sarah",
          "Sarah",
          "Sarah",
          "Sarah",
          "Sarah",
          "Sarah",
          "Sarah",
          "Sarah",
          "Sarah",
          "Sarah",
          "Sarah",
          "Sarah",
          "Sarah",
          "Sarah",
          "Sarah",
          "Sarah",
          "Sarah",
          "Sarah",
          "Sarah",
          "Sarah",
          "Sarah",
          "Sarah",
          "Sarah"
         ],
         "x0": " ",
         "xaxis": "x",
         "y": [
          30,
          45,
          21,
          28,
          48,
          17,
          44,
          31,
          102,
          40,
          10,
          69,
          15,
          20,
          22,
          53,
          43,
          14,
          60,
          44,
          30,
          20,
          20,
          15,
          15,
          43,
          27,
          65,
          66,
          39,
          36,
          21,
          33,
          30,
          22,
          25,
          19,
          115,
          32,
          94,
          103,
          16,
          18,
          26,
          13,
          46,
          40,
          23,
          30,
          56,
          19,
          21,
          62,
          56,
          74,
          29,
          36,
          41,
          51,
          32,
          46,
          40,
          39,
          60,
          42,
          45,
          41,
          15,
          43,
          27,
          38,
          26,
          49,
          38,
          17,
          23,
          40,
          14,
          44,
          47,
          26,
          14,
          25,
          14,
          27,
          32,
          25,
          20,
          22,
          29,
          39,
          67,
          29,
          28,
          77,
          19,
          14,
          46,
          33,
          29,
          61,
          53,
          48,
          42,
          10,
          19,
          20,
          26
         ],
         "y0": " ",
         "yaxis": "y"
        }
       ],
       "layout": {
        "boxmode": "overlay",
        "height": 300,
        "legend": {
         "orientation": "h",
         "title": {
          "text": ""
         },
         "tracegroupgap": 0,
         "x": 1,
         "xanchor": "right",
         "y": 1.1,
         "yanchor": "top"
        },
        "margin": {
         "b": 20,
         "l": 20,
         "pad": 10,
         "r": 20,
         "t": 20
        },
        "paper_bgcolor": "white",
        "plot_bgcolor": "white",
        "showlegend": false,
        "template": {
         "data": {
          "bar": [
           {
            "error_x": {
             "color": "#2a3f5f"
            },
            "error_y": {
             "color": "#2a3f5f"
            },
            "marker": {
             "line": {
              "color": "#E5ECF6",
              "width": 0.5
             },
             "pattern": {
              "fillmode": "overlay",
              "size": 10,
              "solidity": 0.2
             }
            },
            "type": "bar"
           }
          ],
          "barpolar": [
           {
            "marker": {
             "line": {
              "color": "#E5ECF6",
              "width": 0.5
             },
             "pattern": {
              "fillmode": "overlay",
              "size": 10,
              "solidity": 0.2
             }
            },
            "type": "barpolar"
           }
          ],
          "carpet": [
           {
            "aaxis": {
             "endlinecolor": "#2a3f5f",
             "gridcolor": "white",
             "linecolor": "white",
             "minorgridcolor": "white",
             "startlinecolor": "#2a3f5f"
            },
            "baxis": {
             "endlinecolor": "#2a3f5f",
             "gridcolor": "white",
             "linecolor": "white",
             "minorgridcolor": "white",
             "startlinecolor": "#2a3f5f"
            },
            "type": "carpet"
           }
          ],
          "choropleth": [
           {
            "colorbar": {
             "outlinewidth": 0,
             "ticks": ""
            },
            "type": "choropleth"
           }
          ],
          "contour": [
           {
            "colorbar": {
             "outlinewidth": 0,
             "ticks": ""
            },
            "colorscale": [
             [
              0,
              "#0d0887"
             ],
             [
              0.1111111111111111,
              "#46039f"
             ],
             [
              0.2222222222222222,
              "#7201a8"
             ],
             [
              0.3333333333333333,
              "#9c179e"
             ],
             [
              0.4444444444444444,
              "#bd3786"
             ],
             [
              0.5555555555555556,
              "#d8576b"
             ],
             [
              0.6666666666666666,
              "#ed7953"
             ],
             [
              0.7777777777777778,
              "#fb9f3a"
             ],
             [
              0.8888888888888888,
              "#fdca26"
             ],
             [
              1,
              "#f0f921"
             ]
            ],
            "type": "contour"
           }
          ],
          "contourcarpet": [
           {
            "colorbar": {
             "outlinewidth": 0,
             "ticks": ""
            },
            "type": "contourcarpet"
           }
          ],
          "heatmap": [
           {
            "colorbar": {
             "outlinewidth": 0,
             "ticks": ""
            },
            "colorscale": [
             [
              0,
              "#0d0887"
             ],
             [
              0.1111111111111111,
              "#46039f"
             ],
             [
              0.2222222222222222,
              "#7201a8"
             ],
             [
              0.3333333333333333,
              "#9c179e"
             ],
             [
              0.4444444444444444,
              "#bd3786"
             ],
             [
              0.5555555555555556,
              "#d8576b"
             ],
             [
              0.6666666666666666,
              "#ed7953"
             ],
             [
              0.7777777777777778,
              "#fb9f3a"
             ],
             [
              0.8888888888888888,
              "#fdca26"
             ],
             [
              1,
              "#f0f921"
             ]
            ],
            "type": "heatmap"
           }
          ],
          "heatmapgl": [
           {
            "colorbar": {
             "outlinewidth": 0,
             "ticks": ""
            },
            "colorscale": [
             [
              0,
              "#0d0887"
             ],
             [
              0.1111111111111111,
              "#46039f"
             ],
             [
              0.2222222222222222,
              "#7201a8"
             ],
             [
              0.3333333333333333,
              "#9c179e"
             ],
             [
              0.4444444444444444,
              "#bd3786"
             ],
             [
              0.5555555555555556,
              "#d8576b"
             ],
             [
              0.6666666666666666,
              "#ed7953"
             ],
             [
              0.7777777777777778,
              "#fb9f3a"
             ],
             [
              0.8888888888888888,
              "#fdca26"
             ],
             [
              1,
              "#f0f921"
             ]
            ],
            "type": "heatmapgl"
           }
          ],
          "histogram": [
           {
            "marker": {
             "pattern": {
              "fillmode": "overlay",
              "size": 10,
              "solidity": 0.2
             }
            },
            "type": "histogram"
           }
          ],
          "histogram2d": [
           {
            "colorbar": {
             "outlinewidth": 0,
             "ticks": ""
            },
            "colorscale": [
             [
              0,
              "#0d0887"
             ],
             [
              0.1111111111111111,
              "#46039f"
             ],
             [
              0.2222222222222222,
              "#7201a8"
             ],
             [
              0.3333333333333333,
              "#9c179e"
             ],
             [
              0.4444444444444444,
              "#bd3786"
             ],
             [
              0.5555555555555556,
              "#d8576b"
             ],
             [
              0.6666666666666666,
              "#ed7953"
             ],
             [
              0.7777777777777778,
              "#fb9f3a"
             ],
             [
              0.8888888888888888,
              "#fdca26"
             ],
             [
              1,
              "#f0f921"
             ]
            ],
            "type": "histogram2d"
           }
          ],
          "histogram2dcontour": [
           {
            "colorbar": {
             "outlinewidth": 0,
             "ticks": ""
            },
            "colorscale": [
             [
              0,
              "#0d0887"
             ],
             [
              0.1111111111111111,
              "#46039f"
             ],
             [
              0.2222222222222222,
              "#7201a8"
             ],
             [
              0.3333333333333333,
              "#9c179e"
             ],
             [
              0.4444444444444444,
              "#bd3786"
             ],
             [
              0.5555555555555556,
              "#d8576b"
             ],
             [
              0.6666666666666666,
              "#ed7953"
             ],
             [
              0.7777777777777778,
              "#fb9f3a"
             ],
             [
              0.8888888888888888,
              "#fdca26"
             ],
             [
              1,
              "#f0f921"
             ]
            ],
            "type": "histogram2dcontour"
           }
          ],
          "mesh3d": [
           {
            "colorbar": {
             "outlinewidth": 0,
             "ticks": ""
            },
            "type": "mesh3d"
           }
          ],
          "parcoords": [
           {
            "line": {
             "colorbar": {
              "outlinewidth": 0,
              "ticks": ""
             }
            },
            "type": "parcoords"
           }
          ],
          "pie": [
           {
            "automargin": true,
            "type": "pie"
           }
          ],
          "scatter": [
           {
            "fillpattern": {
             "fillmode": "overlay",
             "size": 10,
             "solidity": 0.2
            },
            "type": "scatter"
           }
          ],
          "scatter3d": [
           {
            "line": {
             "colorbar": {
              "outlinewidth": 0,
              "ticks": ""
             }
            },
            "marker": {
             "colorbar": {
              "outlinewidth": 0,
              "ticks": ""
             }
            },
            "type": "scatter3d"
           }
          ],
          "scattercarpet": [
           {
            "marker": {
             "colorbar": {
              "outlinewidth": 0,
              "ticks": ""
             }
            },
            "type": "scattercarpet"
           }
          ],
          "scattergeo": [
           {
            "marker": {
             "colorbar": {
              "outlinewidth": 0,
              "ticks": ""
             }
            },
            "type": "scattergeo"
           }
          ],
          "scattergl": [
           {
            "marker": {
             "colorbar": {
              "outlinewidth": 0,
              "ticks": ""
             }
            },
            "type": "scattergl"
           }
          ],
          "scattermapbox": [
           {
            "marker": {
             "colorbar": {
              "outlinewidth": 0,
              "ticks": ""
             }
            },
            "type": "scattermapbox"
           }
          ],
          "scatterpolar": [
           {
            "marker": {
             "colorbar": {
              "outlinewidth": 0,
              "ticks": ""
             }
            },
            "type": "scatterpolar"
           }
          ],
          "scatterpolargl": [
           {
            "marker": {
             "colorbar": {
              "outlinewidth": 0,
              "ticks": ""
             }
            },
            "type": "scatterpolargl"
           }
          ],
          "scatterternary": [
           {
            "marker": {
             "colorbar": {
              "outlinewidth": 0,
              "ticks": ""
             }
            },
            "type": "scatterternary"
           }
          ],
          "surface": [
           {
            "colorbar": {
             "outlinewidth": 0,
             "ticks": ""
            },
            "colorscale": [
             [
              0,
              "#0d0887"
             ],
             [
              0.1111111111111111,
              "#46039f"
             ],
             [
              0.2222222222222222,
              "#7201a8"
             ],
             [
              0.3333333333333333,
              "#9c179e"
             ],
             [
              0.4444444444444444,
              "#bd3786"
             ],
             [
              0.5555555555555556,
              "#d8576b"
             ],
             [
              0.6666666666666666,
              "#ed7953"
             ],
             [
              0.7777777777777778,
              "#fb9f3a"
             ],
             [
              0.8888888888888888,
              "#fdca26"
             ],
             [
              1,
              "#f0f921"
             ]
            ],
            "type": "surface"
           }
          ],
          "table": [
           {
            "cells": {
             "fill": {
              "color": "#EBF0F8"
             },
             "line": {
              "color": "white"
             }
            },
            "header": {
             "fill": {
              "color": "#C8D4E3"
             },
             "line": {
              "color": "white"
             }
            },
            "type": "table"
           }
          ]
         },
         "layout": {
          "annotationdefaults": {
           "arrowcolor": "#2a3f5f",
           "arrowhead": 0,
           "arrowwidth": 1
          },
          "autotypenumbers": "strict",
          "coloraxis": {
           "colorbar": {
            "outlinewidth": 0,
            "ticks": ""
           }
          },
          "colorscale": {
           "diverging": [
            [
             0,
             "#8e0152"
            ],
            [
             0.1,
             "#c51b7d"
            ],
            [
             0.2,
             "#de77ae"
            ],
            [
             0.3,
             "#f1b6da"
            ],
            [
             0.4,
             "#fde0ef"
            ],
            [
             0.5,
             "#f7f7f7"
            ],
            [
             0.6,
             "#e6f5d0"
            ],
            [
             0.7,
             "#b8e186"
            ],
            [
             0.8,
             "#7fbc41"
            ],
            [
             0.9,
             "#4d9221"
            ],
            [
             1,
             "#276419"
            ]
           ],
           "sequential": [
            [
             0,
             "#0d0887"
            ],
            [
             0.1111111111111111,
             "#46039f"
            ],
            [
             0.2222222222222222,
             "#7201a8"
            ],
            [
             0.3333333333333333,
             "#9c179e"
            ],
            [
             0.4444444444444444,
             "#bd3786"
            ],
            [
             0.5555555555555556,
             "#d8576b"
            ],
            [
             0.6666666666666666,
             "#ed7953"
            ],
            [
             0.7777777777777778,
             "#fb9f3a"
            ],
            [
             0.8888888888888888,
             "#fdca26"
            ],
            [
             1,
             "#f0f921"
            ]
           ],
           "sequentialminus": [
            [
             0,
             "#0d0887"
            ],
            [
             0.1111111111111111,
             "#46039f"
            ],
            [
             0.2222222222222222,
             "#7201a8"
            ],
            [
             0.3333333333333333,
             "#9c179e"
            ],
            [
             0.4444444444444444,
             "#bd3786"
            ],
            [
             0.5555555555555556,
             "#d8576b"
            ],
            [
             0.6666666666666666,
             "#ed7953"
            ],
            [
             0.7777777777777778,
             "#fb9f3a"
            ],
            [
             0.8888888888888888,
             "#fdca26"
            ],
            [
             1,
             "#f0f921"
            ]
           ]
          },
          "colorway": [
           "#636efa",
           "#EF553B",
           "#00cc96",
           "#ab63fa",
           "#FFA15A",
           "#19d3f3",
           "#FF6692",
           "#B6E880",
           "#FF97FF",
           "#FECB52"
          ],
          "font": {
           "color": "#2a3f5f"
          },
          "geo": {
           "bgcolor": "white",
           "lakecolor": "white",
           "landcolor": "#E5ECF6",
           "showlakes": true,
           "showland": true,
           "subunitcolor": "white"
          },
          "hoverlabel": {
           "align": "left"
          },
          "hovermode": "closest",
          "mapbox": {
           "style": "light"
          },
          "paper_bgcolor": "white",
          "plot_bgcolor": "#E5ECF6",
          "polar": {
           "angularaxis": {
            "gridcolor": "white",
            "linecolor": "white",
            "ticks": ""
           },
           "bgcolor": "#E5ECF6",
           "radialaxis": {
            "gridcolor": "white",
            "linecolor": "white",
            "ticks": ""
           }
          },
          "scene": {
           "xaxis": {
            "backgroundcolor": "#E5ECF6",
            "gridcolor": "white",
            "gridwidth": 2,
            "linecolor": "white",
            "showbackground": true,
            "ticks": "",
            "zerolinecolor": "white"
           },
           "yaxis": {
            "backgroundcolor": "#E5ECF6",
            "gridcolor": "white",
            "gridwidth": 2,
            "linecolor": "white",
            "showbackground": true,
            "ticks": "",
            "zerolinecolor": "white"
           },
           "zaxis": {
            "backgroundcolor": "#E5ECF6",
            "gridcolor": "white",
            "gridwidth": 2,
            "linecolor": "white",
            "showbackground": true,
            "ticks": "",
            "zerolinecolor": "white"
           }
          },
          "shapedefaults": {
           "line": {
            "color": "#2a3f5f"
           }
          },
          "ternary": {
           "aaxis": {
            "gridcolor": "white",
            "linecolor": "white",
            "ticks": ""
           },
           "baxis": {
            "gridcolor": "white",
            "linecolor": "white",
            "ticks": ""
           },
           "bgcolor": "#E5ECF6",
           "caxis": {
            "gridcolor": "white",
            "linecolor": "white",
            "ticks": ""
           }
          },
          "title": {
           "x": 0.05
          },
          "xaxis": {
           "automargin": true,
           "gridcolor": "white",
           "linecolor": "white",
           "ticks": "",
           "title": {
            "standoff": 15
           },
           "zerolinecolor": "white",
           "zerolinewidth": 2
          },
          "yaxis": {
           "automargin": true,
           "gridcolor": "white",
           "linecolor": "white",
           "ticks": "",
           "title": {
            "standoff": 15
           },
           "zerolinecolor": "white",
           "zerolinewidth": 2
          }
         }
        },
        "xaxis": {
         "anchor": "y",
         "categoryarray": [
          "Trevor",
          "Sarah"
         ],
         "categoryorder": "array",
         "domain": [
          0,
          1
         ],
         "title": {
          "text": ""
         }
        },
        "yaxis": {
         "anchor": "x",
         "domain": [
          0,
          1
         ],
         "title": {
          "text": "Points Scored"
         }
        }
       }
      }
     },
     "metadata": {},
     "output_type": "display_data"
    }
   ],
   "source": [
    "round_score_distribution_boxplot(\n",
    "    round_level_stats_df=round_level_stats_df,   \n",
    "    height=300,\n",
    "    use_potential_points=False\n",
    ")"
   ]
  }
 ],
 "metadata": {
  "kernelspec": {
   "display_name": ".venv",
   "language": "python",
   "name": "python3"
  },
  "language_info": {
   "codemirror_mode": {
    "name": "ipython",
    "version": 3
   },
   "file_extension": ".py",
   "mimetype": "text/x-python",
   "name": "python",
   "nbconvert_exporter": "python",
   "pygments_lexer": "ipython3",
   "version": "3.11.0"
  }
 },
 "nbformat": 4,
 "nbformat_minor": 2
}

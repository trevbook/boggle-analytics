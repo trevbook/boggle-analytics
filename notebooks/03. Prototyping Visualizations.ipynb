{
 "cells": [
  {
   "cell_type": "markdown",
   "metadata": {},
   "source": [
    "# **Prototyping Visualizations**\n",
    "In this notebook, I'll prototype some visualizations that can show off some Boggle analytics. "
   ]
  },
  {
   "cell_type": "markdown",
   "metadata": {},
   "source": [
    "# Setup\n",
    "The cells below will help to set up the rest of the notebook. \n",
    "\n",
    "I'll start by configuring the kernel that's running this notebook:"
   ]
  },
  {
   "cell_type": "code",
   "execution_count": 1,
   "metadata": {},
   "outputs": [
    {
     "name": "stdout",
     "output_type": "stream",
     "text": [
      "d:\\data\\programming\\boggle-analytics\n"
     ]
    }
   ],
   "source": [
    "# Change the cwd\n",
    "%cd ..\n",
    "\n",
    "# Enable the autoreload module\n",
    "%load_ext autoreload\n",
    "%autoreload 2"
   ]
  },
  {
   "cell_type": "markdown",
   "metadata": {},
   "source": [
    "Next, I'm going to import the necessary modules:"
   ]
  },
  {
   "cell_type": "code",
   "execution_count": 30,
   "metadata": {},
   "outputs": [],
   "source": [
    "# General import statements\n",
    "import pandas as pd\n",
    "import plotly.express as px\n",
    "import plotly.graph_objects as go\n",
    "\n",
    "# Importing specific settings\n",
    "from utils.settings import TREVOR_COLOR, SARAH_COLOR\n",
    "from utils.visualizations import percentage_of_total_points_scored_line_graph"
   ]
  },
  {
   "cell_type": "markdown",
   "metadata": {},
   "source": [
    "Finally, I'm going to load in the data that powers these visualizations:"
   ]
  },
  {
   "cell_type": "code",
   "execution_count": 3,
   "metadata": {},
   "outputs": [],
   "source": [
    "# Load in the game and round level stats\n",
    "round_level_stats_df = pd.read_excel(\"data/round-level-stats.xlsx\")\n",
    "game_level_stats_df = pd.read_excel(\"data/game-level-stats.xlsx\")"
   ]
  },
  {
   "cell_type": "markdown",
   "metadata": {},
   "source": [
    "# Generating Visualizations\n",
    "Below, I'm going to try and create a number of different visualizations! "
   ]
  },
  {
   "cell_type": "markdown",
   "metadata": {},
   "source": [
    "### **Percentage of Total Points Scorable**\n",
    "This will be a dual line plot, tracking each of our \"percentage of total points\" scored. "
   ]
  },
  {
   "cell_type": "code",
   "execution_count": 77,
   "metadata": {},
   "outputs": [
    {
     "data": {
      "application/vnd.plotly.v1+json": {
       "config": {
        "plotlyServerURL": "https://plot.ly"
       },
       "data": [
        {
         "line": {
          "color": "#117E9B",
          "width": 4
         },
         "mode": "lines",
         "name": "Trevor",
         "type": "scatter",
         "x": [
          "2023-10-29 00:00:00-round-1",
          "2023-10-29 00:00:00-round-2",
          "2023-10-29 00:00:00-round-3",
          "2023-10-29 00:00:00-round-4",
          "2023-10-29 00:00:00-round-5",
          "2023-10-30 00:00:00-round-1",
          "2023-10-30 00:00:00-round-2",
          "2023-10-30 00:00:00-round-3",
          "2023-10-30 00:00:00-round-4",
          "2023-10-30 00:00:00-round-5",
          "2023-10-31 00:00:00-round-1",
          "2023-10-31 00:00:00-round-2",
          "2023-10-31 00:00:00-round-3",
          "2023-10-31 00:00:00-round-4",
          "2023-11-08 00:00:00-round-1",
          "2023-11-08 00:00:00-round-2",
          "2023-11-08 00:00:00-round-3",
          "2023-11-10 00:00:00-round-1",
          "2023-11-10 00:00:00-round-2",
          "2023-11-10 00:00:00-round-3",
          "2023-11-10 00:00:00-round-4",
          "2023-11-10 00:00:00-round-5",
          "2023-11-10 00:00:00-round-6",
          "2023-11-19 00:00:00-round-1",
          "2023-11-19 00:00:00-round-2",
          "2023-11-19 00:00:00-round-3",
          "2023-11-19 00:00:00-round-4",
          "2023-11-19 00:00:00-round-5",
          "2023-11-19 00:00:00-round-6",
          "2023-11-29 00:00:00-round-1",
          "2023-11-29 00:00:00-round-2",
          "2023-11-29 00:00:00-round-3",
          "2023-12-01 00:00:00-round-1",
          "2023-12-01 00:00:00-round-2",
          "2023-12-01 00:00:00-round-3",
          "2023-12-01 00:00:00-round-4",
          "2023-12-01 00:00:00-round-5",
          "2023-12-01 00:00:00-round-6",
          "2023-12-01 00:00:00-round-7",
          "2023-12-03 00:00:00-round-1",
          "2023-12-03 00:00:00-round-2",
          "2023-12-03 00:00:00-round-3",
          "2023-12-04 00:00:00-round-1",
          "2023-12-04 00:00:00-round-2",
          "2023-12-04 00:00:00-round-3",
          "2023-12-04 00:00:00-round-4",
          "2023-12-09 00:00:00-round-1",
          "2023-12-09 00:00:00-round-2",
          "2023-12-09 00:00:00-round-3",
          "2023-12-09 00:00:00-round-4",
          "2023-12-13 00:00:00-round-1",
          "2023-12-13 00:00:00-round-2",
          "2023-12-13 00:00:00-round-3",
          "2023-12-13 00:00:00-round-4",
          "2023-12-28 00:00:00-round-1",
          "2023-12-28 00:00:00-round-2",
          "2023-12-28 00:00:00-round-3",
          "2023-12-28 00:00:00-round-4",
          "2023-12-28 00:00:00-round-5",
          "2024-01-04 00:00:00-round-1",
          "2024-01-04 00:00:00-round-2",
          "2024-01-04 00:00:00-round-3",
          "2024-01-04 00:00:00-round-4",
          "2024-01-04 00:00:00-round-5",
          "2024-02-08 00:00:00-round-1",
          "2024-02-08 00:00:00-round-2",
          "2024-02-08 00:00:00-round-3",
          "2024-02-14 00:00:00-round-1",
          "2024-02-14 00:00:00-round-2",
          "2024-02-14 00:00:00-round-3",
          "2024-02-14 00:00:00-round-4",
          "2024-02-14 00:00:00-round-5",
          "2024-02-15 00:00:00-round-1",
          "2024-02-15 00:00:00-round-2",
          "2024-02-15 00:00:00-round-3",
          "2024-02-16 00:00:00-round-1",
          "2024-02-16 00:00:00-round-2",
          "2024-02-16 00:00:00-round-3",
          "2024-02-16 00:00:00-round-4",
          "2024-02-17 00:00:00-round-1",
          "2024-02-17 00:00:00-round-2",
          "2024-02-17 00:00:00-round-3",
          "2024-02-17 00:00:00-round-4",
          "2024-02-17 00:00:00-round-5"
         ],
         "y": [
          0.08459214501510574,
          0.09537826428837479,
          0.10181728969284724,
          0.09099711361109884,
          0.08686613195351786,
          0.0930329548756657,
          0.08722322773126556,
          0.08701239269409532,
          0.08327592410643447,
          0.0820359605617704,
          0.07785188054091946,
          0.07507277531259676,
          0.07544514697404679,
          0.07395940852898411,
          0.07302514823286474,
          0.07043245497298359,
          0.06868446423209339,
          0.07274267641167526,
          0.07262056371691696,
          0.07318176456992591,
          0.07204525523293662,
          0.07270403733773322,
          0.07108053387784544,
          0.07144195335072662,
          0.07286173186409639,
          0.07154797613342223,
          0.07076744294552322,
          0.0694017236867864,
          0.06941085788171401,
          0.06876835964790944,
          0.0666026676941413,
          0.06581242092563368,
          0.06412381101383709,
          0.06560488235379557,
          0.06458801262558564,
          0.06707614084086067,
          0.06965501048779314,
          0.06813540825819099,
          0.07089661237489532,
          0.07122769705880434,
          0.0708704341374992,
          0.07287813327874883,
          0.0685533797552922,
          0.07071639802555635,
          0.0693526645457163,
          0.07134402576995423,
          0.06951514036964025,
          0.06900074270620377,
          0.0669004769132548,
          0.0639563535991893,
          0.06331499495783065,
          0.06338636776925032,
          0.06194905031080257,
          0.06141663451942264,
          0.06206184382728699,
          0.061316648622036875,
          0.06220250252505654,
          0.06205695212679856,
          0.06002424838807666,
          0.06057540454898892,
          0.057841477816606986,
          0.05557111105256934,
          0.054956669005713596,
          0.050910146472931794,
          0.04969362754470061,
          0.05074153512426368,
          0.04901721737700138,
          0.048821004920727,
          0.04522909786030868,
          0.045082838121868994,
          0.04323652121672856,
          0.04312853183263411,
          0.044073337211173236,
          0.0442091595066257,
          0.0450186833161495,
          0.04671206310709027,
          0.044912171246464315,
          0.044385255978797306,
          0.044257215005685906,
          0.04271864727726567,
          0.042262153244129304,
          0.04122857802104678,
          0.04088941907861888,
          0.04097235112784307
         ]
        },
        {
         "line": {
          "color": "#D02F37",
          "width": 4
         },
         "mode": "lines",
         "name": "Sarah",
         "type": "scatter",
         "x": [
          "2023-10-29 00:00:00-round-1",
          "2023-10-29 00:00:00-round-2",
          "2023-10-29 00:00:00-round-3",
          "2023-10-29 00:00:00-round-4",
          "2023-10-29 00:00:00-round-5",
          "2023-10-30 00:00:00-round-1",
          "2023-10-30 00:00:00-round-2",
          "2023-10-30 00:00:00-round-3",
          "2023-10-30 00:00:00-round-4",
          "2023-10-30 00:00:00-round-5",
          "2023-10-31 00:00:00-round-1",
          "2023-10-31 00:00:00-round-2",
          "2023-10-31 00:00:00-round-3",
          "2023-10-31 00:00:00-round-4",
          "2023-11-08 00:00:00-round-1",
          "2023-11-08 00:00:00-round-2",
          "2023-11-08 00:00:00-round-3",
          "2023-11-10 00:00:00-round-1",
          "2023-11-10 00:00:00-round-2",
          "2023-11-10 00:00:00-round-3",
          "2023-11-10 00:00:00-round-4",
          "2023-11-10 00:00:00-round-5",
          "2023-11-10 00:00:00-round-6",
          "2023-11-19 00:00:00-round-1",
          "2023-11-19 00:00:00-round-2",
          "2023-11-19 00:00:00-round-3",
          "2023-11-19 00:00:00-round-4",
          "2023-11-19 00:00:00-round-5",
          "2023-11-19 00:00:00-round-6",
          "2023-11-29 00:00:00-round-1",
          "2023-11-29 00:00:00-round-2",
          "2023-11-29 00:00:00-round-3",
          "2023-12-01 00:00:00-round-1",
          "2023-12-01 00:00:00-round-2",
          "2023-12-01 00:00:00-round-3",
          "2023-12-01 00:00:00-round-4",
          "2023-12-01 00:00:00-round-5",
          "2023-12-01 00:00:00-round-6",
          "2023-12-01 00:00:00-round-7",
          "2023-12-03 00:00:00-round-1",
          "2023-12-03 00:00:00-round-2",
          "2023-12-03 00:00:00-round-3",
          "2023-12-04 00:00:00-round-1",
          "2023-12-04 00:00:00-round-2",
          "2023-12-04 00:00:00-round-3",
          "2023-12-04 00:00:00-round-4",
          "2023-12-09 00:00:00-round-1",
          "2023-12-09 00:00:00-round-2",
          "2023-12-09 00:00:00-round-3",
          "2023-12-09 00:00:00-round-4",
          "2023-12-13 00:00:00-round-1",
          "2023-12-13 00:00:00-round-2",
          "2023-12-13 00:00:00-round-3",
          "2023-12-13 00:00:00-round-4",
          "2023-12-28 00:00:00-round-1",
          "2023-12-28 00:00:00-round-2",
          "2023-12-28 00:00:00-round-3",
          "2023-12-28 00:00:00-round-4",
          "2023-12-28 00:00:00-round-5",
          "2024-01-04 00:00:00-round-1",
          "2024-01-04 00:00:00-round-2",
          "2024-01-04 00:00:00-round-3",
          "2024-01-04 00:00:00-round-4",
          "2024-01-04 00:00:00-round-5",
          "2024-02-08 00:00:00-round-1",
          "2024-02-08 00:00:00-round-2",
          "2024-02-08 00:00:00-round-3",
          "2024-02-14 00:00:00-round-1",
          "2024-02-14 00:00:00-round-2",
          "2024-02-14 00:00:00-round-3",
          "2024-02-14 00:00:00-round-4",
          "2024-02-14 00:00:00-round-5",
          "2024-02-15 00:00:00-round-1",
          "2024-02-15 00:00:00-round-2",
          "2024-02-15 00:00:00-round-3",
          "2024-02-16 00:00:00-round-1",
          "2024-02-16 00:00:00-round-2",
          "2024-02-16 00:00:00-round-3",
          "2024-02-16 00:00:00-round-4",
          "2024-02-17 00:00:00-round-1",
          "2024-02-17 00:00:00-round-2",
          "2024-02-17 00:00:00-round-3",
          "2024-02-17 00:00:00-round-4",
          "2024-02-17 00:00:00-round-5"
         ],
         "y": [
          0.045317220543806644,
          0.061186007532177296,
          0.053335474555501715,
          0.0513837197377645,
          0.0593579263605538,
          0.0580248580698472,
          0.06035335324905822,
          0.05883562266213278,
          0.06310227151579477,
          0.06194668353947301,
          0.05883342421996918,
          0.05894809087528588,
          0.05690573067005954,
          0.056744236246710246,
          0.05695765410274246,
          0.05533267221664816,
          0.05619737227978075,
          0.05919953051270632,
          0.06164343958134816,
          0.06306024510739323,
          0.06397127061760868,
          0.06324880027485025,
          0.06220723203876083,
          0.06089338264655275,
          0.06019175138693342,
          0.060784656970775564,
          0.06023173919463748,
          0.06171830761464812,
          0.06252665147497916,
          0.06213324632959548,
          0.06272106749980529,
          0.06887852930944101,
          0.07171541192758363,
          0.07111366466665672,
          0.07268817263291727,
          0.07604442510620575,
          0.07850784301464983,
          0.08288395655072107,
          0.08522113239887416,
          0.08957376106842055,
          0.09256977013566607,
          0.09184638928199206,
          0.0894537471857835,
          0.08731674848676205,
          0.086304631159289,
          0.0863322752417276,
          0.08692097225899605,
          0.08664321520523244,
          0.0886859761085941,
          0.09050742761790691,
          0.09149469035516965,
          0.09182255920762865,
          0.09100034322743401,
          0.09155267933753905,
          0.09093404053641221,
          0.09252541534388559,
          0.08546990851516739,
          0.08330774015805317,
          0.0811115617020625,
          0.0797051632224933,
          0.0771358311642323,
          0.07479568186205768,
          0.0715611719976927,
          0.06988180569554743,
          0.06532170888337382,
          0.06313051486275117,
          0.06209784453753782,
          0.06151644451341335,
          0.061236713602387534,
          0.060032491435373696,
          0.05850541141417603,
          0.05832547603885308,
          0.05895497822585145,
          0.05723782815613119,
          0.05671798688628992,
          0.05482106470278238,
          0.053442664914031386,
          0.05303394241943755,
          0.053393371722528817,
          0.05257516747171822,
          0.04999238448017611,
          0.04926685411664706,
          0.04814956361451258,
          0.04835436713392285
         ]
        }
       ],
       "layout": {
        "height": 350,
        "legend": {
         "x": 1,
         "xanchor": "right",
         "y": 1,
         "yanchor": "top"
        },
        "margin": {
         "b": 15,
         "l": 15,
         "r": 15,
         "t": 15
        },
        "plot_bgcolor": "rgba(0,0,0,0)",
        "template": {
         "data": {
          "bar": [
           {
            "error_x": {
             "color": "#2a3f5f"
            },
            "error_y": {
             "color": "#2a3f5f"
            },
            "marker": {
             "line": {
              "color": "#E5ECF6",
              "width": 0.5
             },
             "pattern": {
              "fillmode": "overlay",
              "size": 10,
              "solidity": 0.2
             }
            },
            "type": "bar"
           }
          ],
          "barpolar": [
           {
            "marker": {
             "line": {
              "color": "#E5ECF6",
              "width": 0.5
             },
             "pattern": {
              "fillmode": "overlay",
              "size": 10,
              "solidity": 0.2
             }
            },
            "type": "barpolar"
           }
          ],
          "carpet": [
           {
            "aaxis": {
             "endlinecolor": "#2a3f5f",
             "gridcolor": "white",
             "linecolor": "white",
             "minorgridcolor": "white",
             "startlinecolor": "#2a3f5f"
            },
            "baxis": {
             "endlinecolor": "#2a3f5f",
             "gridcolor": "white",
             "linecolor": "white",
             "minorgridcolor": "white",
             "startlinecolor": "#2a3f5f"
            },
            "type": "carpet"
           }
          ],
          "choropleth": [
           {
            "colorbar": {
             "outlinewidth": 0,
             "ticks": ""
            },
            "type": "choropleth"
           }
          ],
          "contour": [
           {
            "colorbar": {
             "outlinewidth": 0,
             "ticks": ""
            },
            "colorscale": [
             [
              0,
              "#0d0887"
             ],
             [
              0.1111111111111111,
              "#46039f"
             ],
             [
              0.2222222222222222,
              "#7201a8"
             ],
             [
              0.3333333333333333,
              "#9c179e"
             ],
             [
              0.4444444444444444,
              "#bd3786"
             ],
             [
              0.5555555555555556,
              "#d8576b"
             ],
             [
              0.6666666666666666,
              "#ed7953"
             ],
             [
              0.7777777777777778,
              "#fb9f3a"
             ],
             [
              0.8888888888888888,
              "#fdca26"
             ],
             [
              1,
              "#f0f921"
             ]
            ],
            "type": "contour"
           }
          ],
          "contourcarpet": [
           {
            "colorbar": {
             "outlinewidth": 0,
             "ticks": ""
            },
            "type": "contourcarpet"
           }
          ],
          "heatmap": [
           {
            "colorbar": {
             "outlinewidth": 0,
             "ticks": ""
            },
            "colorscale": [
             [
              0,
              "#0d0887"
             ],
             [
              0.1111111111111111,
              "#46039f"
             ],
             [
              0.2222222222222222,
              "#7201a8"
             ],
             [
              0.3333333333333333,
              "#9c179e"
             ],
             [
              0.4444444444444444,
              "#bd3786"
             ],
             [
              0.5555555555555556,
              "#d8576b"
             ],
             [
              0.6666666666666666,
              "#ed7953"
             ],
             [
              0.7777777777777778,
              "#fb9f3a"
             ],
             [
              0.8888888888888888,
              "#fdca26"
             ],
             [
              1,
              "#f0f921"
             ]
            ],
            "type": "heatmap"
           }
          ],
          "heatmapgl": [
           {
            "colorbar": {
             "outlinewidth": 0,
             "ticks": ""
            },
            "colorscale": [
             [
              0,
              "#0d0887"
             ],
             [
              0.1111111111111111,
              "#46039f"
             ],
             [
              0.2222222222222222,
              "#7201a8"
             ],
             [
              0.3333333333333333,
              "#9c179e"
             ],
             [
              0.4444444444444444,
              "#bd3786"
             ],
             [
              0.5555555555555556,
              "#d8576b"
             ],
             [
              0.6666666666666666,
              "#ed7953"
             ],
             [
              0.7777777777777778,
              "#fb9f3a"
             ],
             [
              0.8888888888888888,
              "#fdca26"
             ],
             [
              1,
              "#f0f921"
             ]
            ],
            "type": "heatmapgl"
           }
          ],
          "histogram": [
           {
            "marker": {
             "pattern": {
              "fillmode": "overlay",
              "size": 10,
              "solidity": 0.2
             }
            },
            "type": "histogram"
           }
          ],
          "histogram2d": [
           {
            "colorbar": {
             "outlinewidth": 0,
             "ticks": ""
            },
            "colorscale": [
             [
              0,
              "#0d0887"
             ],
             [
              0.1111111111111111,
              "#46039f"
             ],
             [
              0.2222222222222222,
              "#7201a8"
             ],
             [
              0.3333333333333333,
              "#9c179e"
             ],
             [
              0.4444444444444444,
              "#bd3786"
             ],
             [
              0.5555555555555556,
              "#d8576b"
             ],
             [
              0.6666666666666666,
              "#ed7953"
             ],
             [
              0.7777777777777778,
              "#fb9f3a"
             ],
             [
              0.8888888888888888,
              "#fdca26"
             ],
             [
              1,
              "#f0f921"
             ]
            ],
            "type": "histogram2d"
           }
          ],
          "histogram2dcontour": [
           {
            "colorbar": {
             "outlinewidth": 0,
             "ticks": ""
            },
            "colorscale": [
             [
              0,
              "#0d0887"
             ],
             [
              0.1111111111111111,
              "#46039f"
             ],
             [
              0.2222222222222222,
              "#7201a8"
             ],
             [
              0.3333333333333333,
              "#9c179e"
             ],
             [
              0.4444444444444444,
              "#bd3786"
             ],
             [
              0.5555555555555556,
              "#d8576b"
             ],
             [
              0.6666666666666666,
              "#ed7953"
             ],
             [
              0.7777777777777778,
              "#fb9f3a"
             ],
             [
              0.8888888888888888,
              "#fdca26"
             ],
             [
              1,
              "#f0f921"
             ]
            ],
            "type": "histogram2dcontour"
           }
          ],
          "mesh3d": [
           {
            "colorbar": {
             "outlinewidth": 0,
             "ticks": ""
            },
            "type": "mesh3d"
           }
          ],
          "parcoords": [
           {
            "line": {
             "colorbar": {
              "outlinewidth": 0,
              "ticks": ""
             }
            },
            "type": "parcoords"
           }
          ],
          "pie": [
           {
            "automargin": true,
            "type": "pie"
           }
          ],
          "scatter": [
           {
            "fillpattern": {
             "fillmode": "overlay",
             "size": 10,
             "solidity": 0.2
            },
            "type": "scatter"
           }
          ],
          "scatter3d": [
           {
            "line": {
             "colorbar": {
              "outlinewidth": 0,
              "ticks": ""
             }
            },
            "marker": {
             "colorbar": {
              "outlinewidth": 0,
              "ticks": ""
             }
            },
            "type": "scatter3d"
           }
          ],
          "scattercarpet": [
           {
            "marker": {
             "colorbar": {
              "outlinewidth": 0,
              "ticks": ""
             }
            },
            "type": "scattercarpet"
           }
          ],
          "scattergeo": [
           {
            "marker": {
             "colorbar": {
              "outlinewidth": 0,
              "ticks": ""
             }
            },
            "type": "scattergeo"
           }
          ],
          "scattergl": [
           {
            "marker": {
             "colorbar": {
              "outlinewidth": 0,
              "ticks": ""
             }
            },
            "type": "scattergl"
           }
          ],
          "scattermapbox": [
           {
            "marker": {
             "colorbar": {
              "outlinewidth": 0,
              "ticks": ""
             }
            },
            "type": "scattermapbox"
           }
          ],
          "scatterpolar": [
           {
            "marker": {
             "colorbar": {
              "outlinewidth": 0,
              "ticks": ""
             }
            },
            "type": "scatterpolar"
           }
          ],
          "scatterpolargl": [
           {
            "marker": {
             "colorbar": {
              "outlinewidth": 0,
              "ticks": ""
             }
            },
            "type": "scatterpolargl"
           }
          ],
          "scatterternary": [
           {
            "marker": {
             "colorbar": {
              "outlinewidth": 0,
              "ticks": ""
             }
            },
            "type": "scatterternary"
           }
          ],
          "surface": [
           {
            "colorbar": {
             "outlinewidth": 0,
             "ticks": ""
            },
            "colorscale": [
             [
              0,
              "#0d0887"
             ],
             [
              0.1111111111111111,
              "#46039f"
             ],
             [
              0.2222222222222222,
              "#7201a8"
             ],
             [
              0.3333333333333333,
              "#9c179e"
             ],
             [
              0.4444444444444444,
              "#bd3786"
             ],
             [
              0.5555555555555556,
              "#d8576b"
             ],
             [
              0.6666666666666666,
              "#ed7953"
             ],
             [
              0.7777777777777778,
              "#fb9f3a"
             ],
             [
              0.8888888888888888,
              "#fdca26"
             ],
             [
              1,
              "#f0f921"
             ]
            ],
            "type": "surface"
           }
          ],
          "table": [
           {
            "cells": {
             "fill": {
              "color": "#EBF0F8"
             },
             "line": {
              "color": "white"
             }
            },
            "header": {
             "fill": {
              "color": "#C8D4E3"
             },
             "line": {
              "color": "white"
             }
            },
            "type": "table"
           }
          ]
         },
         "layout": {
          "annotationdefaults": {
           "arrowcolor": "#2a3f5f",
           "arrowhead": 0,
           "arrowwidth": 1
          },
          "autotypenumbers": "strict",
          "coloraxis": {
           "colorbar": {
            "outlinewidth": 0,
            "ticks": ""
           }
          },
          "colorscale": {
           "diverging": [
            [
             0,
             "#8e0152"
            ],
            [
             0.1,
             "#c51b7d"
            ],
            [
             0.2,
             "#de77ae"
            ],
            [
             0.3,
             "#f1b6da"
            ],
            [
             0.4,
             "#fde0ef"
            ],
            [
             0.5,
             "#f7f7f7"
            ],
            [
             0.6,
             "#e6f5d0"
            ],
            [
             0.7,
             "#b8e186"
            ],
            [
             0.8,
             "#7fbc41"
            ],
            [
             0.9,
             "#4d9221"
            ],
            [
             1,
             "#276419"
            ]
           ],
           "sequential": [
            [
             0,
             "#0d0887"
            ],
            [
             0.1111111111111111,
             "#46039f"
            ],
            [
             0.2222222222222222,
             "#7201a8"
            ],
            [
             0.3333333333333333,
             "#9c179e"
            ],
            [
             0.4444444444444444,
             "#bd3786"
            ],
            [
             0.5555555555555556,
             "#d8576b"
            ],
            [
             0.6666666666666666,
             "#ed7953"
            ],
            [
             0.7777777777777778,
             "#fb9f3a"
            ],
            [
             0.8888888888888888,
             "#fdca26"
            ],
            [
             1,
             "#f0f921"
            ]
           ],
           "sequentialminus": [
            [
             0,
             "#0d0887"
            ],
            [
             0.1111111111111111,
             "#46039f"
            ],
            [
             0.2222222222222222,
             "#7201a8"
            ],
            [
             0.3333333333333333,
             "#9c179e"
            ],
            [
             0.4444444444444444,
             "#bd3786"
            ],
            [
             0.5555555555555556,
             "#d8576b"
            ],
            [
             0.6666666666666666,
             "#ed7953"
            ],
            [
             0.7777777777777778,
             "#fb9f3a"
            ],
            [
             0.8888888888888888,
             "#fdca26"
            ],
            [
             1,
             "#f0f921"
            ]
           ]
          },
          "colorway": [
           "#636efa",
           "#EF553B",
           "#00cc96",
           "#ab63fa",
           "#FFA15A",
           "#19d3f3",
           "#FF6692",
           "#B6E880",
           "#FF97FF",
           "#FECB52"
          ],
          "font": {
           "color": "#2a3f5f"
          },
          "geo": {
           "bgcolor": "white",
           "lakecolor": "white",
           "landcolor": "#E5ECF6",
           "showlakes": true,
           "showland": true,
           "subunitcolor": "white"
          },
          "hoverlabel": {
           "align": "left"
          },
          "hovermode": "closest",
          "mapbox": {
           "style": "light"
          },
          "paper_bgcolor": "white",
          "plot_bgcolor": "#E5ECF6",
          "polar": {
           "angularaxis": {
            "gridcolor": "white",
            "linecolor": "white",
            "ticks": ""
           },
           "bgcolor": "#E5ECF6",
           "radialaxis": {
            "gridcolor": "white",
            "linecolor": "white",
            "ticks": ""
           }
          },
          "scene": {
           "xaxis": {
            "backgroundcolor": "#E5ECF6",
            "gridcolor": "white",
            "gridwidth": 2,
            "linecolor": "white",
            "showbackground": true,
            "ticks": "",
            "zerolinecolor": "white"
           },
           "yaxis": {
            "backgroundcolor": "#E5ECF6",
            "gridcolor": "white",
            "gridwidth": 2,
            "linecolor": "white",
            "showbackground": true,
            "ticks": "",
            "zerolinecolor": "white"
           },
           "zaxis": {
            "backgroundcolor": "#E5ECF6",
            "gridcolor": "white",
            "gridwidth": 2,
            "linecolor": "white",
            "showbackground": true,
            "ticks": "",
            "zerolinecolor": "white"
           }
          },
          "shapedefaults": {
           "line": {
            "color": "#2a3f5f"
           }
          },
          "ternary": {
           "aaxis": {
            "gridcolor": "white",
            "linecolor": "white",
            "ticks": ""
           },
           "baxis": {
            "gridcolor": "white",
            "linecolor": "white",
            "ticks": ""
           },
           "bgcolor": "#E5ECF6",
           "caxis": {
            "gridcolor": "white",
            "linecolor": "white",
            "ticks": ""
           }
          },
          "title": {
           "x": 0.05
          },
          "xaxis": {
           "automargin": true,
           "gridcolor": "white",
           "linecolor": "white",
           "ticks": "",
           "title": {
            "standoff": 15
           },
           "zerolinecolor": "white",
           "zerolinewidth": 2
          },
          "yaxis": {
           "automargin": true,
           "gridcolor": "white",
           "linecolor": "white",
           "ticks": "",
           "title": {
            "standoff": 15
           },
           "zerolinecolor": "white",
           "zerolinewidth": 2
          }
         }
        },
        "xaxis": {
         "fixedrange": true,
         "showgrid": false,
         "showticklabels": false
        },
        "yaxis": {
         "fixedrange": true,
         "range": [
          0,
          0.22826086956521738
         ],
         "showgrid": false,
         "tickformat": ".0%",
         "title": {
          "text": "% of Total Points Scored"
         }
        }
       }
      }
     },
     "metadata": {},
     "output_type": "display_data"
    }
   ],
   "source": [
    "# Make the Plotly figure\n",
    "pct_of_total_fig = percentage_of_total_points_scored_line_graph(\n",
    "    round_level_stats_df=round_level_stats_df,\n",
    "    show_each_round=False,\n",
    "    show_rolling_avg=True,\n",
    "    rolling_avg_window_size=25,\n",
    "    hide_legend=False,\n",
    ")\n",
    "\n",
    "# Show the figure\n",
    "pct_of_total_fig.show()"
   ]
  },
  {
   "cell_type": "code",
   "execution_count": null,
   "metadata": {},
   "outputs": [],
   "source": []
  }
 ],
 "metadata": {
  "kernelspec": {
   "display_name": ".venv",
   "language": "python",
   "name": "python3"
  },
  "language_info": {
   "codemirror_mode": {
    "name": "ipython",
    "version": 3
   },
   "file_extension": ".py",
   "mimetype": "text/x-python",
   "name": "python",
   "nbconvert_exporter": "python",
   "pygments_lexer": "ipython3",
   "version": "3.11.0"
  }
 },
 "nbformat": 4,
 "nbformat_minor": 2
}

{
 "cells": [
  {
   "cell_type": "markdown",
   "metadata": {},
   "source": [
    "# **Experimenting with Google Drive API**\n",
    "For this \"Boggle Analytics\" project, I'm going to experiment with downloading data live from Google Drive. This will allow me to keep [my game records in a Google Sheets file](https://docs.google.com/spreadsheets/d/1NQq_ZU5Sw4CX9-hP7OZbiVwLkVHE0fp7grb54cKgdTM/edit?usp=sharing) that I can edit wherever. This workflow can then just download *this* file! "
   ]
  },
  {
   "cell_type": "markdown",
   "metadata": {},
   "source": [
    "# Setup\n",
    "The cells below will set up the rest of the notebook.\n",
    "\n",
    "I'll start by configuring the kernel: "
   ]
  },
  {
   "cell_type": "code",
   "execution_count": 1,
   "metadata": {},
   "outputs": [
    {
     "name": "stdout",
     "output_type": "stream",
     "text": [
      "d:\\data\\programming\\boggle-analytics\n"
     ]
    }
   ],
   "source": [
    "# Change the working directory \n",
    "%cd ..\n",
    "\n",
    "# Enable the autoreload extension, which will automatically load in new code as it's written\n",
    "%load_ext autoreload\n",
    "%autoreload 2"
   ]
  },
  {
   "cell_type": "markdown",
   "metadata": {},
   "source": [
    "Now I'll import some necessary modules:"
   ]
  },
  {
   "cell_type": "code",
   "execution_count": 2,
   "metadata": {},
   "outputs": [],
   "source": [
    "# General import statements\n",
    "import pandas as pd\n",
    "import json\n",
    "from pathlib import Path\n",
    "\n",
    "# Importing custom-built modules\n",
    "from utils.google_drive import generate_credentials, download_google_sheet_as_excel"
   ]
  },
  {
   "cell_type": "markdown",
   "metadata": {},
   "source": [
    "# Downloading Data\n",
    "Below, I'm going to run the method to download some data. "
   ]
  },
  {
   "cell_type": "code",
   "execution_count": 5,
   "metadata": {},
   "outputs": [
    {
     "name": "stdout",
     "output_type": "stream",
     "text": [
      "Please visit this URL to authorize this application: https://accounts.google.com/o/oauth2/auth?response_type=code&client_id=958491583377-tbi0s03mhigr61m8dpd0ph1674dc0jb9.apps.googleusercontent.com&redirect_uri=http%3A%2F%2Flocalhost%3A59121%2F&scope=https%3A%2F%2Fwww.googleapis.com%2Fauth%2Fdrive.readonly&state=Ot3ChOrISY8LoIDpkm8cVSlILijj4Q&access_type=offline\n",
      "Download 100%.\n"
     ]
    }
   ],
   "source": [
    "# Ensure that the data/ Path exists\n",
    "Path(\"data\").mkdir(exist_ok=True, parents=True)\n",
    "\n",
    "# Indicate the spreadsheet ID and the save path\n",
    "spreadsheet_id = \"1NQq_ZU5Sw4CX9-hP7OZbiVwLkVHE0fp7grb54cKgdTM\"\n",
    "save_path = \"data/boggle-game-records.xlsx\"\n",
    "\n",
    "# Run the function to download the Google Sheet as an Excel file\n",
    "download_google_sheet_as_excel(spreadsheet_id, save_path)"
   ]
  },
  {
   "cell_type": "code",
   "execution_count": null,
   "metadata": {},
   "outputs": [],
   "source": []
  }
 ],
 "metadata": {
  "kernelspec": {
   "display_name": ".venv",
   "language": "python",
   "name": "python3"
  },
  "language_info": {
   "codemirror_mode": {
    "name": "ipython",
    "version": 3
   },
   "file_extension": ".py",
   "mimetype": "text/x-python",
   "name": "python",
   "nbconvert_exporter": "python",
   "pygments_lexer": "ipython3",
   "version": "3.11.0"
  }
 },
 "nbformat": 4,
 "nbformat_minor": 2
}
